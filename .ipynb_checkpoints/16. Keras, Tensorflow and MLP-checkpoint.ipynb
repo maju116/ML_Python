{
 "cells": [
  {
   "cell_type": "markdown",
   "id": "8c87b514",
   "metadata": {},
   "source": [
    "Zacznijmy od wczytania niezbędnych pakietów:"
   ]
  },
  {
   "cell_type": "code",
   "execution_count": 25,
   "id": "e343c4ab",
   "metadata": {},
   "outputs": [
    {
     "data": {
      "text/plain": [
       "'2.11.0'"
      ]
     },
     "execution_count": 25,
     "metadata": {},
     "output_type": "execute_result"
    }
   ],
   "source": [
    "import pandas as pd\n",
    "import tensorflow as tf\n",
    "import numpy as np\n",
    "import os\n",
    "from matplotlib import pyplot as plt\n",
    "\n",
    "tf.__version__ "
   ]
  },
  {
   "cell_type": "markdown",
   "id": "f22b602c",
   "metadata": {},
   "source": [
    "# MLP dla zadania regresji"
   ]
  },
  {
   "cell_type": "markdown",
   "id": "ea83d37f",
   "metadata": {},
   "source": [
    "W Keras możemy tworzyć modele na dwa różne sposoby:\n",
    "- zbudować model sekwencyjny - nakładamy nowe warstwy na poprzednie. Nie możemy używać wielu inputów i outputów w modelu.\n",
    "- używając API funkcyjnego - pozwala na uzycie wieli inputów i uotputów.\n",
    "\n",
    "Zaczniemy od modelu sekwencyjnego. Musimy zacząć od inicjalizacji modelu:"
   ]
  },
  {
   "cell_type": "code",
   "execution_count": 26,
   "id": "c4f83119",
   "metadata": {},
   "outputs": [
    {
     "name": "stdout",
     "output_type": "stream",
     "text": [
      "(404, 13)\n",
      "(404, 1)\n"
     ]
    }
   ],
   "source": [
    "boston_train_X = pd.read_csv(\"data/boston_train_X\", sep=\" \").to_numpy()\n",
    "boston_test_X = pd.read_csv(\"data/boston_test_X\", sep=\" \").to_numpy()\n",
    "boston_train_Y = pd.read_csv(\"data/boston_train_Y\", sep=\" \").to_numpy()\n",
    "boston_test_Y = pd.read_csv(\"data/boston_test_Y\", sep=\" \").to_numpy()\n",
    "\n",
    "print(boston_train_X.shape)\n",
    "print(boston_train_Y.shape)"
   ]
  },
  {
   "cell_type": "code",
   "execution_count": 27,
   "id": "e239ef82",
   "metadata": {},
   "outputs": [
    {
     "data": {
      "text/plain": [
       "array([[-0.27190919, -0.48301657, -0.43522197, ...,  1.14707815,\n",
       "         0.44752224,  0.82419825],\n",
       "       [-0.40292691,  2.9880792 , -1.33225971, ..., -1.7160613 ,\n",
       "         0.43137112, -1.32755632],\n",
       "       [ 0.12478548, -0.48301657,  1.02705233, ...,  0.78350488,\n",
       "         0.22034405, -1.30687963],\n",
       "       ...,\n",
       "       [-0.401532  ,  0.98956951, -0.74059652, ..., -0.71623483,\n",
       "         0.07934057, -0.6769297 ],\n",
       "       [-0.17270603, -0.48301657,  1.24433806, ..., -1.7160613 ,\n",
       "        -0.98642053,  0.42031351],\n",
       "       [-0.40372555,  2.04141672, -1.20012649, ..., -1.30704138,\n",
       "         0.23288242, -1.15249365]])"
      ]
     },
     "execution_count": 27,
     "metadata": {},
     "output_type": "execute_result"
    }
   ],
   "source": [
    "boston_train_X"
   ]
  },
  {
   "cell_type": "code",
   "execution_count": 28,
   "id": "38a9803f",
   "metadata": {},
   "outputs": [
    {
     "data": {
      "text/plain": [
       "array([[15.2],\n",
       "       [42.3],\n",
       "       [50. ],\n",
       "       [21.1],\n",
       "       [17.7],\n",
       "       [18.5],\n",
       "       [11.3],\n",
       "       [15.6],\n",
       "       [15.6],\n",
       "       [14.4],\n",
       "       [12.1],\n",
       "       [17.9],\n",
       "       [23.1],\n",
       "       [19.9],\n",
       "       [15.7],\n",
       "       [ 8.8],\n",
       "       [50. ],\n",
       "       [22.5],\n",
       "       [24.1],\n",
       "       [27.5],\n",
       "       [10.9],\n",
       "       [30.8],\n",
       "       [32.9],\n",
       "       [24. ],\n",
       "       [18.5],\n",
       "       [13.3],\n",
       "       [22.9],\n",
       "       [34.7],\n",
       "       [16.6],\n",
       "       [17.5],\n",
       "       [22.3],\n",
       "       [16.1],\n",
       "       [14.9],\n",
       "       [23.1],\n",
       "       [34.9],\n",
       "       [25. ],\n",
       "       [13.9],\n",
       "       [13.1],\n",
       "       [20.4],\n",
       "       [20. ],\n",
       "       [15.2],\n",
       "       [24.7],\n",
       "       [22.2],\n",
       "       [16.7],\n",
       "       [12.7],\n",
       "       [15.6],\n",
       "       [18.4],\n",
       "       [21. ],\n",
       "       [30.1],\n",
       "       [15.1],\n",
       "       [18.7],\n",
       "       [ 9.6],\n",
       "       [31.5],\n",
       "       [24.8],\n",
       "       [19.1],\n",
       "       [22. ],\n",
       "       [14.5],\n",
       "       [11. ],\n",
       "       [32. ],\n",
       "       [29.4],\n",
       "       [20.3],\n",
       "       [24.4],\n",
       "       [14.6],\n",
       "       [19.5],\n",
       "       [14.1],\n",
       "       [14.3],\n",
       "       [15.6],\n",
       "       [10.5],\n",
       "       [ 6.3],\n",
       "       [19.3],\n",
       "       [19.3],\n",
       "       [13.4],\n",
       "       [36.4],\n",
       "       [17.8],\n",
       "       [13.5],\n",
       "       [16.5],\n",
       "       [ 8.3],\n",
       "       [14.3],\n",
       "       [16. ],\n",
       "       [13.4],\n",
       "       [28.6],\n",
       "       [43.5],\n",
       "       [20.2],\n",
       "       [22. ],\n",
       "       [23. ],\n",
       "       [20.7],\n",
       "       [12.5],\n",
       "       [48.5],\n",
       "       [14.6],\n",
       "       [13.4],\n",
       "       [23.7],\n",
       "       [50. ],\n",
       "       [21.7],\n",
       "       [39.8],\n",
       "       [38.7],\n",
       "       [22.2],\n",
       "       [34.9],\n",
       "       [22.5],\n",
       "       [31.1],\n",
       "       [28.7],\n",
       "       [46. ],\n",
       "       [41.7],\n",
       "       [21. ],\n",
       "       [26.6],\n",
       "       [15. ],\n",
       "       [24.4],\n",
       "       [13.3],\n",
       "       [21.2],\n",
       "       [11.7],\n",
       "       [21.7],\n",
       "       [19.4],\n",
       "       [50. ],\n",
       "       [22.8],\n",
       "       [19.7],\n",
       "       [24.7],\n",
       "       [36.2],\n",
       "       [14.2],\n",
       "       [18.9],\n",
       "       [18.3],\n",
       "       [20.6],\n",
       "       [24.6],\n",
       "       [18.2],\n",
       "       [ 8.7],\n",
       "       [44. ],\n",
       "       [10.4],\n",
       "       [13.2],\n",
       "       [21.2],\n",
       "       [37. ],\n",
       "       [30.7],\n",
       "       [22.9],\n",
       "       [20. ],\n",
       "       [19.3],\n",
       "       [31.7],\n",
       "       [32. ],\n",
       "       [23.1],\n",
       "       [18.8],\n",
       "       [10.9],\n",
       "       [50. ],\n",
       "       [19.6],\n",
       "       [ 5. ],\n",
       "       [14.4],\n",
       "       [19.8],\n",
       "       [13.8],\n",
       "       [19.6],\n",
       "       [23.9],\n",
       "       [24.5],\n",
       "       [25. ],\n",
       "       [19.9],\n",
       "       [17.2],\n",
       "       [24.6],\n",
       "       [13.5],\n",
       "       [26.6],\n",
       "       [21.4],\n",
       "       [11.9],\n",
       "       [22.6],\n",
       "       [19.6],\n",
       "       [ 8.5],\n",
       "       [23.7],\n",
       "       [23.1],\n",
       "       [22.4],\n",
       "       [20.5],\n",
       "       [23.6],\n",
       "       [18.4],\n",
       "       [35.2],\n",
       "       [23.1],\n",
       "       [27.9],\n",
       "       [20.6],\n",
       "       [23.7],\n",
       "       [28. ],\n",
       "       [13.6],\n",
       "       [27.1],\n",
       "       [23.6],\n",
       "       [20.6],\n",
       "       [18.2],\n",
       "       [21.7],\n",
       "       [17.1],\n",
       "       [ 8.4],\n",
       "       [25.3],\n",
       "       [13.8],\n",
       "       [22.2],\n",
       "       [18.4],\n",
       "       [20.7],\n",
       "       [31.6],\n",
       "       [30.5],\n",
       "       [20.3],\n",
       "       [ 8.8],\n",
       "       [19.2],\n",
       "       [19.4],\n",
       "       [23.1],\n",
       "       [23. ],\n",
       "       [14.8],\n",
       "       [48.8],\n",
       "       [22.6],\n",
       "       [33.4],\n",
       "       [21.1],\n",
       "       [13.6],\n",
       "       [32.2],\n",
       "       [13.1],\n",
       "       [23.4],\n",
       "       [18.9],\n",
       "       [23.9],\n",
       "       [11.8],\n",
       "       [23.3],\n",
       "       [22.8],\n",
       "       [19.6],\n",
       "       [16.7],\n",
       "       [13.4],\n",
       "       [22.2],\n",
       "       [20.4],\n",
       "       [21.8],\n",
       "       [26.4],\n",
       "       [14.9],\n",
       "       [24.1],\n",
       "       [23.8],\n",
       "       [12.3],\n",
       "       [29.1],\n",
       "       [21. ],\n",
       "       [19.5],\n",
       "       [23.3],\n",
       "       [23.8],\n",
       "       [17.8],\n",
       "       [11.5],\n",
       "       [21.7],\n",
       "       [19.9],\n",
       "       [25. ],\n",
       "       [33.4],\n",
       "       [28.5],\n",
       "       [21.4],\n",
       "       [24.3],\n",
       "       [27.5],\n",
       "       [33.1],\n",
       "       [16.2],\n",
       "       [23.3],\n",
       "       [48.3],\n",
       "       [22.9],\n",
       "       [22.8],\n",
       "       [13.1],\n",
       "       [12.7],\n",
       "       [22.6],\n",
       "       [15. ],\n",
       "       [15.3],\n",
       "       [10.5],\n",
       "       [24. ],\n",
       "       [18.5],\n",
       "       [21.7],\n",
       "       [19.5],\n",
       "       [33.2],\n",
       "       [23.2],\n",
       "       [ 5. ],\n",
       "       [19.1],\n",
       "       [12.7],\n",
       "       [22.3],\n",
       "       [10.2],\n",
       "       [13.9],\n",
       "       [16.3],\n",
       "       [17. ],\n",
       "       [20.1],\n",
       "       [29.9],\n",
       "       [17.2],\n",
       "       [37.3],\n",
       "       [45.4],\n",
       "       [17.8],\n",
       "       [23.2],\n",
       "       [29. ],\n",
       "       [22. ],\n",
       "       [18. ],\n",
       "       [17.4],\n",
       "       [34.6],\n",
       "       [20.1],\n",
       "       [25. ],\n",
       "       [15.6],\n",
       "       [24.8],\n",
       "       [28.2],\n",
       "       [21.2],\n",
       "       [21.4],\n",
       "       [23.8],\n",
       "       [31. ],\n",
       "       [26.2],\n",
       "       [17.4],\n",
       "       [37.9],\n",
       "       [17.5],\n",
       "       [20. ],\n",
       "       [ 8.3],\n",
       "       [23.9],\n",
       "       [ 8.4],\n",
       "       [13.8],\n",
       "       [ 7.2],\n",
       "       [11.7],\n",
       "       [17.1],\n",
       "       [21.6],\n",
       "       [50. ],\n",
       "       [16.1],\n",
       "       [20.4],\n",
       "       [20.6],\n",
       "       [21.4],\n",
       "       [20.6],\n",
       "       [36.5],\n",
       "       [ 8.5],\n",
       "       [24.8],\n",
       "       [10.8],\n",
       "       [21.9],\n",
       "       [17.3],\n",
       "       [18.9],\n",
       "       [36.2],\n",
       "       [14.9],\n",
       "       [18.2],\n",
       "       [33.3],\n",
       "       [21.8],\n",
       "       [19.7],\n",
       "       [31.6],\n",
       "       [24.8],\n",
       "       [19.4],\n",
       "       [22.8],\n",
       "       [ 7.5],\n",
       "       [44.8],\n",
       "       [16.8],\n",
       "       [18.7],\n",
       "       [50. ],\n",
       "       [50. ],\n",
       "       [19.5],\n",
       "       [20.1],\n",
       "       [50. ],\n",
       "       [17.2],\n",
       "       [20.8],\n",
       "       [19.3],\n",
       "       [41.3],\n",
       "       [20.4],\n",
       "       [20.5],\n",
       "       [13.8],\n",
       "       [16.5],\n",
       "       [23.9],\n",
       "       [20.6],\n",
       "       [31.5],\n",
       "       [23.3],\n",
       "       [16.8],\n",
       "       [14. ],\n",
       "       [33.8],\n",
       "       [36.1],\n",
       "       [12.8],\n",
       "       [18.3],\n",
       "       [18.7],\n",
       "       [19.1],\n",
       "       [29. ],\n",
       "       [30.1],\n",
       "       [50. ],\n",
       "       [50. ],\n",
       "       [22. ],\n",
       "       [11.9],\n",
       "       [37.6],\n",
       "       [50. ],\n",
       "       [22.7],\n",
       "       [20.8],\n",
       "       [23.5],\n",
       "       [27.9],\n",
       "       [50. ],\n",
       "       [19.3],\n",
       "       [23.9],\n",
       "       [22.6],\n",
       "       [15.2],\n",
       "       [21.7],\n",
       "       [19.2],\n",
       "       [43.8],\n",
       "       [20.3],\n",
       "       [33.2],\n",
       "       [19.9],\n",
       "       [22.5],\n",
       "       [32.7],\n",
       "       [22. ],\n",
       "       [17.1],\n",
       "       [19. ],\n",
       "       [15. ],\n",
       "       [16.1],\n",
       "       [25.1],\n",
       "       [23.7],\n",
       "       [28.7],\n",
       "       [37.2],\n",
       "       [22.6],\n",
       "       [16.4],\n",
       "       [25. ],\n",
       "       [29.8],\n",
       "       [22.1],\n",
       "       [17.4],\n",
       "       [18.1],\n",
       "       [30.3],\n",
       "       [17.5],\n",
       "       [24.7],\n",
       "       [12.6],\n",
       "       [26.5],\n",
       "       [28.7],\n",
       "       [13.3],\n",
       "       [10.4],\n",
       "       [24.4],\n",
       "       [23. ],\n",
       "       [20. ],\n",
       "       [17.8],\n",
       "       [ 7. ],\n",
       "       [11.8],\n",
       "       [24.4],\n",
       "       [13.8],\n",
       "       [19.4],\n",
       "       [25.2],\n",
       "       [19.4],\n",
       "       [19.4],\n",
       "       [29.1]])"
      ]
     },
     "execution_count": 28,
     "metadata": {},
     "output_type": "execute_result"
    }
   ],
   "source": [
    "boston_train_Y"
   ]
  },
  {
   "cell_type": "code",
   "execution_count": 29,
   "id": "cbacf764",
   "metadata": {},
   "outputs": [],
   "source": [
    "boston_model = tf.keras.Sequential()"
   ]
  },
  {
   "cell_type": "markdown",
   "id": "d7f9dabc",
   "metadata": {},
   "source": [
    "W następnym kroku możemy dodać kilka warstw (pamiętaj, że nie musimy ponownie przypisywać modelu za pomocą `=`):"
   ]
  },
  {
   "cell_type": "code",
   "execution_count": 30,
   "id": "33421632",
   "metadata": {
    "scrolled": true
   },
   "outputs": [
    {
     "name": "stdout",
     "output_type": "stream",
     "text": [
      "Model: \"sequential_3\"\n",
      "_________________________________________________________________\n",
      " Layer (type)                Output Shape              Param #   \n",
      "=================================================================\n",
      " dense_6 (Dense)             (None, 16)                224       \n",
      "                                                                 \n",
      "=================================================================\n",
      "Total params: 224\n",
      "Trainable params: 224\n",
      "Non-trainable params: 0\n",
      "_________________________________________________________________\n"
     ]
    }
   ],
   "source": [
    "boston_model.add(\n",
    "    tf.keras.layers.Dense(units = 16, # Liczba neuronów w warstwie ukrytej\n",
    "                             activation = \"tanh\", # Funkcja aktywacji\n",
    "                             input_shape = (13,)) # Liczba predyktorów - tylko w pierwszej warstwie\n",
    ")\n",
    "boston_model.summary()"
   ]
  },
  {
   "cell_type": "markdown",
   "id": "cc1b8ac6",
   "metadata": {},
   "source": [
    "Dlaczego mamy 224 parametry?"
   ]
  },
  {
   "cell_type": "code",
   "execution_count": 31,
   "id": "7f3256a2",
   "metadata": {},
   "outputs": [
    {
     "data": {
      "text/plain": [
       "224"
      ]
     },
     "execution_count": 31,
     "metadata": {},
     "output_type": "execute_result"
    }
   ],
   "source": [
    "13 * 16 + 16"
   ]
  },
  {
   "cell_type": "markdown",
   "id": "cdb8e67c",
   "metadata": {},
   "source": [
    "Po dodaniu warstwy ukrytej możemy dodać warstwę wyjściową:"
   ]
  },
  {
   "cell_type": "code",
   "execution_count": 32,
   "id": "9d84e752",
   "metadata": {},
   "outputs": [
    {
     "name": "stdout",
     "output_type": "stream",
     "text": [
      "Model: \"sequential_3\"\n",
      "_________________________________________________________________\n",
      " Layer (type)                Output Shape              Param #   \n",
      "=================================================================\n",
      " dense_6 (Dense)             (None, 16)                224       \n",
      "                                                                 \n",
      " dense_7 (Dense)             (None, 1)                 17        \n",
      "                                                                 \n",
      "=================================================================\n",
      "Total params: 241\n",
      "Trainable params: 241\n",
      "Non-trainable params: 0\n",
      "_________________________________________________________________\n"
     ]
    }
   ],
   "source": [
    "boston_model.add(\n",
    "    tf.keras.layers.Dense(units = 1, # Liczba neuronów w warstwie wyjścia - chcemy dostać 1 liczbę\n",
    "                             activation = \"linear\") # Funkcja liniowa dla regresji\n",
    ")\n",
    "boston_model.summary()"
   ]
  },
  {
   "cell_type": "markdown",
   "id": "26b27f65",
   "metadata": {},
   "source": [
    "Możemy teraz skonfigurować model do treningu. Użyjemy SGD jako optymalizatora, MSE jako funkcji straty i dodamy MAE jako dodatkową metrykę."
   ]
  },
  {
   "cell_type": "code",
   "execution_count": 33,
   "id": "f3b0f108",
   "metadata": {},
   "outputs": [],
   "source": [
    "boston_model.compile(\n",
    "    optimizer = \"sgd\",\n",
    "    loss = \"mse\",\n",
    "    metrics = (\"mae\"))"
   ]
  },
  {
   "cell_type": "markdown",
   "id": "85acce42",
   "metadata": {},
   "source": [
    "Jesteśmy gotowi do trenowania naszej pierwszej sieci neuronowej:"
   ]
  },
  {
   "cell_type": "code",
   "execution_count": 34,
   "id": "14dacb99",
   "metadata": {},
   "outputs": [
    {
     "name": "stdout",
     "output_type": "stream",
     "text": [
      "Epoch 1/5\n",
      "11/11 [==============================] - 0s 14ms/step - loss: 385.9043 - mae: 17.3278 - val_loss: 132.0892 - val_mae: 8.8267\n",
      "Epoch 2/5\n",
      "11/11 [==============================] - 0s 5ms/step - loss: 61.9386 - mae: 5.0852 - val_loss: 51.2261 - val_mae: 4.6651\n",
      "Epoch 3/5\n",
      "11/11 [==============================] - 0s 5ms/step - loss: 38.3164 - mae: 4.0189 - val_loss: 41.0217 - val_mae: 4.2345\n",
      "Epoch 4/5\n",
      "11/11 [==============================] - 0s 6ms/step - loss: 31.7377 - mae: 3.8048 - val_loss: 36.5078 - val_mae: 3.9853\n",
      "Epoch 5/5\n",
      "11/11 [==============================] - 0s 5ms/step - loss: 29.0317 - mae: 3.5255 - val_loss: 32.1042 - val_mae: 3.7163\n"
     ]
    }
   ],
   "source": [
    "history = boston_model.fit(\n",
    "    x = boston_train_X,\n",
    "    y = boston_train_Y,\n",
    "    validation_split = 0.2, # 20% zbioru uczącego przeznaczonego na walidację\n",
    "    epochs = 5, # Liczba \"pętli/przejść\" bo całym zbiorze treningowym\n",
    "    batch_size = 30, # Wielkość próbki (batcha) dla jednej iteracji algorytmu SGD\n",
    "    verbose = 1)"
   ]
  },
  {
   "cell_type": "code",
   "execution_count": 35,
   "id": "47177f63",
   "metadata": {},
   "outputs": [
    {
     "data": {
      "image/png": "[encoded data removed]",
      "text/plain": [
       "<Figure size 432x288 with 1 Axes>"
      ]
     },
     "metadata": {
      "needs_background": "light"
     },
     "output_type": "display_data"
    }
   ],
   "source": [
    "plt.plot(history.history['mae'])\n",
    "plt.plot(history.history['val_mae'])\n",
    "plt.title('model MAE')\n",
    "plt.ylabel('MAE')\n",
    "plt.xlabel('epoch')\n",
    "plt.legend(['train', 'val'], loc='upper left')\n",
    "plt.show()"
   ]
  },
  {
   "cell_type": "markdown",
   "id": "e90f57ba",
   "metadata": {},
   "source": [
    "Możemy teraz ocenić wytrenowany model w testowym zestawie danych:"
   ]
  },
  {
   "cell_type": "code",
   "execution_count": 36,
   "id": "373a5aba",
   "metadata": {},
   "outputs": [
    {
     "name": "stdout",
     "output_type": "stream",
     "text": [
      "4/4 [==============================] - 0s 3ms/step - loss: 24.5026 - mae: 3.4693\n"
     ]
    },
    {
     "data": {
      "text/plain": [
       "[24.502592086791992, 3.4692516326904297]"
      ]
     },
     "execution_count": 36,
     "metadata": {},
     "output_type": "execute_result"
    }
   ],
   "source": [
    "boston_model.evaluate(boston_test_X, boston_test_Y)"
   ]
  },
  {
   "cell_type": "markdown",
   "id": "62e862b2",
   "metadata": {},
   "source": [
    "I policzyć predykcje:"
   ]
  },
  {
   "cell_type": "code",
   "execution_count": 37,
   "id": "f06e9583",
   "metadata": {},
   "outputs": [
    {
     "name": "stdout",
     "output_type": "stream",
     "text": [
      "4/4 [==============================] - 0s 1ms/step\n"
     ]
    },
    {
     "data": {
      "text/plain": [
       "array([[10.171157 ],\n",
       "       [21.890297 ],\n",
       "       [22.007984 ],\n",
       "       [28.5192   ],\n",
       "       [25.637806 ],\n",
       "       [22.639662 ],\n",
       "       [30.288126 ],\n",
       "       [25.59836  ],\n",
       "       [18.538229 ],\n",
       "       [21.637335 ],\n",
       "       [20.939207 ],\n",
       "       [19.07223  ],\n",
       "       [16.432013 ],\n",
       "       [32.687378 ],\n",
       "       [18.55761  ],\n",
       "       [21.428652 ],\n",
       "       [25.010065 ],\n",
       "       [24.201002 ],\n",
       "       [19.87737  ],\n",
       "       [25.628242 ],\n",
       "       [11.1026745],\n",
       "       [13.771999 ],\n",
       "       [23.149267 ],\n",
       "       [14.58478  ],\n",
       "       [22.565933 ],\n",
       "       [23.593937 ],\n",
       "       [31.14043  ],\n",
       "       [23.92948  ],\n",
       "       [11.495594 ],\n",
       "       [21.631046 ],\n",
       "       [25.968653 ],\n",
       "       [14.43012  ],\n",
       "       [30.12294  ],\n",
       "       [23.76752  ],\n",
       "       [18.459606 ],\n",
       "       [ 6.4697638],\n",
       "       [16.64542  ],\n",
       "       [22.436775 ],\n",
       "       [17.988295 ],\n",
       "       [27.560934 ],\n",
       "       [23.174223 ],\n",
       "       [29.17677  ],\n",
       "       [16.040264 ],\n",
       "       [32.28466  ],\n",
       "       [29.425404 ],\n",
       "       [24.188236 ],\n",
       "       [30.327185 ],\n",
       "       [18.61999  ],\n",
       "       [22.134766 ],\n",
       "       [24.872633 ],\n",
       "       [29.137867 ],\n",
       "       [16.748056 ],\n",
       "       [ 9.993548 ],\n",
       "       [14.143436 ],\n",
       "       [32.587765 ],\n",
       "       [27.892086 ],\n",
       "       [14.270403 ],\n",
       "       [33.786663 ],\n",
       "       [30.700924 ],\n",
       "       [25.049858 ],\n",
       "       [23.602795 ],\n",
       "       [17.791718 ],\n",
       "       [15.048403 ],\n",
       "       [23.534836 ],\n",
       "       [26.18239  ],\n",
       "       [24.114485 ],\n",
       "       [15.137125 ],\n",
       "       [26.164995 ],\n",
       "       [ 9.784212 ],\n",
       "       [ 8.378313 ],\n",
       "       [25.379642 ],\n",
       "       [25.237406 ],\n",
       "       [22.220709 ],\n",
       "       [12.724012 ],\n",
       "       [28.819868 ],\n",
       "       [22.875061 ],\n",
       "       [21.512445 ],\n",
       "       [25.75269  ],\n",
       "       [30.54547  ],\n",
       "       [ 7.831891 ],\n",
       "       [25.305372 ],\n",
       "       [33.284084 ],\n",
       "       [17.750587 ],\n",
       "       [15.544529 ],\n",
       "       [21.286165 ],\n",
       "       [20.100502 ],\n",
       "       [20.074968 ],\n",
       "       [24.101685 ],\n",
       "       [24.297968 ],\n",
       "       [26.214384 ],\n",
       "       [16.483648 ],\n",
       "       [19.805231 ],\n",
       "       [28.253616 ],\n",
       "       [29.378733 ],\n",
       "       [30.798298 ],\n",
       "       [21.392756 ],\n",
       "       [33.027363 ],\n",
       "       [29.091942 ],\n",
       "       [26.150518 ],\n",
       "       [33.482655 ],\n",
       "       [31.732193 ],\n",
       "       [24.572027 ]], dtype=float32)"
      ]
     },
     "execution_count": 37,
     "metadata": {},
     "output_type": "execute_result"
    }
   ],
   "source": [
    "boston_predictions = boston_model.predict(boston_test_X)\n",
    "boston_predictions"
   ]
  },
  {
   "cell_type": "markdown",
   "id": "8dc33904",
   "metadata": {},
   "source": [
    "Na koniec możemy zapisać nasz model na dysku twardym:"
   ]
  },
  {
   "cell_type": "code",
   "execution_count": 38,
   "id": "101913a0",
   "metadata": {},
   "outputs": [],
   "source": [
    "if not os.path.exists(\"models\"):\n",
    "    os.mkdir(\"models\")\n",
    "boston_model.save(\"models/boston_model.hdf5\")"
   ]
  },
  {
   "cell_type": "markdown",
   "id": "ef2f1ea8",
   "metadata": {},
   "source": [
    "# MLP dla zadania klasyfikacji binarnej"
   ]
  },
  {
   "cell_type": "markdown",
   "id": "185bb493",
   "metadata": {},
   "source": [
    "Budując MLP (lub inną sieć neuronową) dla zadania klasyfikacji musimy zmienić tylko kilka drobnych detali w naszym kodzie. Zacznijmy od wczytania zbioru danych z informacjami o fraudach na kartach kredytowych i inicjalizacji modelu:"
   ]
  },
  {
   "cell_type": "code",
   "execution_count": 39,
   "id": "30cc65a4",
   "metadata": {},
   "outputs": [
    {
     "name": "stdout",
     "output_type": "stream",
     "text": [
      "(227845, 29)\n",
      "(227845, 1)\n"
     ]
    }
   ],
   "source": [
    "creditcard_train_X = pd.read_csv(\"data/creditcard_train_X\", sep=\" \").to_numpy()\n",
    "creditcard_test_X = pd.read_csv(\"data/creditcard_test_X\", sep=\" \").to_numpy()\n",
    "creditcard_train_Y = pd.read_csv(\"data/creditcard_train_Y\", sep=\" \").to_numpy()\n",
    "creditcard_test_Y = pd.read_csv(\"data/creditcard_test_Y\", sep=\" \").to_numpy()\n",
    "\n",
    "print(creditcard_train_X.shape)\n",
    "print(creditcard_train_Y.shape)"
   ]
  },
  {
   "cell_type": "markdown",
   "id": "240de081",
   "metadata": {},
   "source": [
    "Zanim zbudujemy model, przekształcimy wektor odpowiedzi (klas) do formatu one-hot-encoding:"
   ]
  },
  {
   "cell_type": "code",
   "execution_count": 40,
   "id": "5be130f1",
   "metadata": {},
   "outputs": [
    {
     "name": "stdout",
     "output_type": "stream",
     "text": [
      "(227845, 2)\n"
     ]
    }
   ],
   "source": [
    "creditcard_train_Y = tf.keras.utils.to_categorical(creditcard_train_Y, 2)\n",
    "creditcard_test_Y = tf.keras.utils.to_categorical(creditcard_test_Y, 2)\n",
    "print(creditcard_train_Y.shape)"
   ]
  },
  {
   "cell_type": "code",
   "execution_count": 41,
   "id": "ddedee69",
   "metadata": {},
   "outputs": [
    {
     "data": {
      "text/plain": [
       "array([[1., 0.],\n",
       "       [1., 0.],\n",
       "       [1., 0.],\n",
       "       ...,\n",
       "       [1., 0.],\n",
       "       [1., 0.],\n",
       "       [1., 0.]], dtype=float32)"
      ]
     },
     "execution_count": 41,
     "metadata": {},
     "output_type": "execute_result"
    }
   ],
   "source": [
    "creditcard_train_Y"
   ]
  },
  {
   "cell_type": "code",
   "execution_count": 42,
   "id": "82de231a",
   "metadata": {},
   "outputs": [],
   "source": [
    "creditcard_model = tf.keras.Sequential()"
   ]
  },
  {
   "cell_type": "markdown",
   "id": "3604d48c",
   "metadata": {},
   "source": [
    "Następnie dodajmy warstwy ukryte:"
   ]
  },
  {
   "cell_type": "code",
   "execution_count": 43,
   "id": "d85238d3",
   "metadata": {},
   "outputs": [
    {
     "name": "stdout",
     "output_type": "stream",
     "text": [
      "Model: \"sequential_4\"\n",
      "_________________________________________________________________\n",
      " Layer (type)                Output Shape              Param #   \n",
      "=================================================================\n",
      " dense_8 (Dense)             (None, 20)                600       \n",
      "                                                                 \n",
      " dense_9 (Dense)             (None, 10)                210       \n",
      "                                                                 \n",
      " dense_10 (Dense)            (None, 5)                 55        \n",
      "                                                                 \n",
      "=================================================================\n",
      "Total params: 865\n",
      "Trainable params: 865\n",
      "Non-trainable params: 0\n",
      "_________________________________________________________________\n"
     ]
    }
   ],
   "source": [
    "creditcard_model.add(\n",
    "    tf.keras.layers.Dense(units = 20, # Liczba neuronów w warstwie ukrytej\n",
    "                             activation = \"relu\", # Funkcja aktywacji\n",
    "                             input_shape = (29,)) # Liczba predyktorów - tylko w pierwszej warstwie\n",
    ")\n",
    "creditcard_model.add(\n",
    "    tf.keras.layers.Dense(units = 10, # Liczba neuronów w warstwie ukrytej\n",
    "                             activation = \"relu\") # Funkcja aktywacji\n",
    ")\n",
    "creditcard_model.add(\n",
    "    tf.keras.layers.Dense(units = 5, # Liczba neuronów w warstwie ukrytej\n",
    "                             activation = \"relu\") # Funkcja aktywacji\n",
    ")\n",
    "creditcard_model.summary()"
   ]
  },
  {
   "cell_type": "markdown",
   "id": "7c06c97b",
   "metadata": {},
   "source": [
    "Oraz warstwę wyjściową:"
   ]
  },
  {
   "cell_type": "code",
   "execution_count": 44,
   "id": "8f665bcc",
   "metadata": {},
   "outputs": [
    {
     "name": "stdout",
     "output_type": "stream",
     "text": [
      "Model: \"sequential_4\"\n",
      "_________________________________________________________________\n",
      " Layer (type)                Output Shape              Param #   \n",
      "=================================================================\n",
      " dense_8 (Dense)             (None, 20)                600       \n",
      "                                                                 \n",
      " dense_9 (Dense)             (None, 10)                210       \n",
      "                                                                 \n",
      " dense_10 (Dense)            (None, 5)                 55        \n",
      "                                                                 \n",
      " dense_11 (Dense)            (None, 2)                 12        \n",
      "                                                                 \n",
      "=================================================================\n",
      "Total params: 877\n",
      "Trainable params: 877\n",
      "Non-trainable params: 0\n",
      "_________________________________________________________________\n"
     ]
    }
   ],
   "source": [
    "creditcard_model.add(\n",
    "    tf.keras.layers.Dense(units = 2, # Liczba neuronów w warstwie wyjścia - dwie klasy\n",
    "                             activation = \"softmax\") # Funkcja aktywacji - softmax dla klasykikacji\n",
    ")\n",
    "creditcard_model.summary()"
   ]
  },
  {
   "cell_type": "markdown",
   "id": "b58794f1",
   "metadata": {},
   "source": [
    "Możemy teraz skonfigurować model do treningu. Użyjemy SGD jako optymalizatora, Entropii Krzyżowej jako funkcji straty i dodamy Accuracy jako dodatkową metrykę."
   ]
  },
  {
   "cell_type": "code",
   "execution_count": 45,
   "id": "1b3ca6c2",
   "metadata": {},
   "outputs": [],
   "source": [
    "creditcard_model.compile(\n",
    "    optimizer = \"sgd\",\n",
    "    loss = \"categorical_crossentropy\",\n",
    "    metrics = (\"accuracy\"))"
   ]
  },
  {
   "cell_type": "markdown",
   "id": "bd59aff1",
   "metadata": {},
   "source": [
    "I wytrenować go:"
   ]
  },
  {
   "cell_type": "code",
   "execution_count": 46,
   "id": "35692f24",
   "metadata": {},
   "outputs": [
    {
     "name": "stdout",
     "output_type": "stream",
     "text": [
      "Epoch 1/5\n",
      "713/713 [==============================] - 3s 3ms/step - loss: 0.1176 - accuracy: 0.9969 - val_loss: 0.0447 - val_accuracy: 0.9985\n",
      "Epoch 2/5\n",
      "713/713 [==============================] - 2s 3ms/step - loss: 0.0428 - accuracy: 0.9982 - val_loss: 0.0281 - val_accuracy: 0.9985\n",
      "Epoch 3/5\n",
      "713/713 [==============================] - 2s 3ms/step - loss: 0.0282 - accuracy: 0.9982 - val_loss: 0.0210 - val_accuracy: 0.9985\n",
      "Epoch 4/5\n",
      "713/713 [==============================] - 2s 3ms/step - loss: 0.0232 - accuracy: 0.9982 - val_loss: 0.0171 - val_accuracy: 0.9985\n",
      "Epoch 5/5\n",
      "713/713 [==============================] - 2s 3ms/step - loss: 0.0192 - accuracy: 0.9982 - val_loss: 0.0175 - val_accuracy: 0.9985\n"
     ]
    }
   ],
   "source": [
    "history = creditcard_model.fit(\n",
    "    x = creditcard_train_X,\n",
    "    y = creditcard_train_Y,\n",
    "    validation_split = 0.2, # 20% zbioru uczącego przeznaczonego na walidację\n",
    "    epochs = 5, # Liczba \"pętli/przejść\" bo całym zbiorze treningowym\n",
    "    batch_size = 256, # Wielkość próbki (batcha) dla jednej iteracji algorytmu SGD\n",
    "    verbose = 1)"
   ]
  },
  {
   "cell_type": "code",
   "execution_count": 47,
   "id": "07124f8f",
   "metadata": {},
   "outputs": [
    {
     "data": {
      "image/png": "[encoded data removed]",
      "text/plain": [
       "<Figure size 432x288 with 1 Axes>"
      ]
     },
     "metadata": {
      "needs_background": "light"
     },
     "output_type": "display_data"
    }
   ],
   "source": [
    "plt.plot(history.history['accuracy'])\n",
    "plt.plot(history.history['val_accuracy'])\n",
    "plt.title('model Accuracy')\n",
    "plt.ylabel('Accuracy')\n",
    "plt.xlabel('epoch')\n",
    "plt.legend(['train', 'val'], loc='upper left')\n",
    "plt.show()"
   ]
  },
  {
   "cell_type": "code",
   "execution_count": 48,
   "id": "bb2937d1",
   "metadata": {},
   "outputs": [
    {
     "name": "stdout",
     "output_type": "stream",
     "text": [
      "1781/1781 [==============================] - 3s 2ms/step - loss: 0.0191 - accuracy: 0.9983\n"
     ]
    },
    {
     "data": {
      "text/plain": [
       "[0.01913713663816452, 0.9982619881629944]"
      ]
     },
     "execution_count": 48,
     "metadata": {},
     "output_type": "execute_result"
    }
   ],
   "source": [
    "creditcard_model.evaluate(creditcard_test_X, creditcard_test_Y)"
   ]
  },
  {
   "cell_type": "code",
   "execution_count": 49,
   "id": "1183bd25",
   "metadata": {},
   "outputs": [
    {
     "name": "stdout",
     "output_type": "stream",
     "text": [
      "1781/1781 [==============================] - 2s 1ms/step\n"
     ]
    },
    {
     "data": {
      "text/plain": [
       "array([[0.99540013, 0.00459984],\n",
       "       [0.99498063, 0.00501934],\n",
       "       [0.99807274, 0.00192723],\n",
       "       ...,\n",
       "       [0.99448943, 0.00551061],\n",
       "       [0.9954194 , 0.00458067],\n",
       "       [0.99830604, 0.00169389]], dtype=float32)"
      ]
     },
     "execution_count": 49,
     "metadata": {},
     "output_type": "execute_result"
    }
   ],
   "source": [
    "creditcard_predictions = creditcard_model.predict(creditcard_test_X)\n",
    "creditcard_predictions"
   ]
  },
  {
   "cell_type": "markdown",
   "id": "f44cf578",
   "metadata": {},
   "source": [
    "Model może wydawać się dobry, jednakże wcale taki nie jest:"
   ]
  },
  {
   "cell_type": "code",
   "execution_count": 50,
   "id": "7a763f76",
   "metadata": {},
   "outputs": [
    {
     "name": "stdout",
     "output_type": "stream",
     "text": [
      "1781/1781 [==============================] - 2s 1ms/step\n"
     ]
    },
    {
     "data": {
      "text/html": [
       "<div>\n",
       "<style scoped>\n",
       "    .dataframe tbody tr th:only-of-type {\n",
       "        vertical-align: middle;\n",
       "    }\n",
       "\n",
       "    .dataframe tbody tr th {\n",
       "        vertical-align: top;\n",
       "    }\n",
       "\n",
       "    .dataframe thead th {\n",
       "        text-align: right;\n",
       "    }\n",
       "</style>\n",
       "<table border=\"1\" class=\"dataframe\">\n",
       "  <thead>\n",
       "    <tr style=\"text-align: right;\">\n",
       "      <th>predicted</th>\n",
       "      <th>0</th>\n",
       "    </tr>\n",
       "    <tr>\n",
       "      <th>true</th>\n",
       "      <th></th>\n",
       "    </tr>\n",
       "  </thead>\n",
       "  <tbody>\n",
       "    <tr>\n",
       "      <th>0.0</th>\n",
       "      <td>56863</td>\n",
       "    </tr>\n",
       "    <tr>\n",
       "      <th>1.0</th>\n",
       "      <td>99</td>\n",
       "    </tr>\n",
       "  </tbody>\n",
       "</table>\n",
       "</div>"
      ],
      "text/plain": [
       "predicted      0\n",
       "true            \n",
       "0.0        56863\n",
       "1.0           99"
      ]
     },
     "execution_count": 50,
     "metadata": {},
     "output_type": "execute_result"
    }
   ],
   "source": [
    "pd.crosstab(creditcard_test_Y[:, 1], np.argmax(creditcard_model.predict(creditcard_test_X), axis=-1),\n",
    "           rownames = [\"true\"], colnames = [\"predicted\"])"
   ]
  },
  {
   "cell_type": "markdown",
   "id": "0794463d",
   "metadata": {},
   "source": [
    "# Dropout i checkpointy"
   ]
  },
  {
   "cell_type": "markdown",
   "id": "f077b3d6",
   "metadata": {},
   "source": [
    "Jednym z powodów przez które nasz model zawiódł może być brak regularyzacji, która jest niezwykle ważna w przypadku mocno niezbalansowanych zbiorów lub kiepska architektura sieci:"
   ]
  },
  {
   "cell_type": "code",
   "execution_count": 51,
   "id": "b2f1feb1",
   "metadata": {},
   "outputs": [
    {
     "name": "stdout",
     "output_type": "stream",
     "text": [
      "Model: \"sequential_5\"\n",
      "_________________________________________________________________\n",
      " Layer (type)                Output Shape              Param #   \n",
      "=================================================================\n",
      " dense_12 (Dense)            (None, 256)               7680      \n",
      "                                                                 \n",
      " dropout (Dropout)           (None, 256)               0         \n",
      "                                                                 \n",
      " dense_13 (Dense)            (None, 256)               65792     \n",
      "                                                                 \n",
      " dropout_1 (Dropout)         (None, 256)               0         \n",
      "                                                                 \n",
      " dense_14 (Dense)            (None, 2)                 514       \n",
      "                                                                 \n",
      "=================================================================\n",
      "Total params: 73,986\n",
      "Trainable params: 73,986\n",
      "Non-trainable params: 0\n",
      "_________________________________________________________________\n"
     ]
    }
   ],
   "source": [
    "creditcard_model2 = tf.keras.Sequential()\n",
    "creditcard_model2.add(\n",
    "    tf.keras.layers.Dense(units = 256, # Liczba neuronów w warstwie ukrytej\n",
    "                             activation = \"relu\", # Funkcja aktywacji\n",
    "                             input_shape = (29,)) # Liczba predyktorów - tylko w pierwszej warstwie\n",
    ")\n",
    "creditcard_model2.add(tf.keras.layers.Dropout(0.1))\n",
    "creditcard_model2.add(\n",
    "    tf.keras.layers.Dense(units = 256, # Liczba neuronów w warstwie ukrytej\n",
    "                             activation = \"relu\") # Funkcja aktywacji\n",
    ")\n",
    "creditcard_model2.add(tf.keras.layers.Dropout(0.1))\n",
    "creditcard_model2.add(\n",
    "    tf.keras.layers.Dense(units = 2, # Liczba neuronów w warstwie wyjścia\n",
    "                             activation = \"softmax\") # Funkcja aktywacji\n",
    ")\n",
    "creditcard_model2.summary()"
   ]
  },
  {
   "cell_type": "markdown",
   "id": "b8ae6f89",
   "metadata": {},
   "source": [
    "Trenowanie sieci neuronowej może zająć dużo czasu, a rozwiązanie rzeczywistego problemu może zająć dni, tygodnie, a nawet miesiące. W tym czasie wiele rzeczy może pójść nie tak, na przykład jeśli twój komputer zresetuje się z nieznanego powodu, stracisz cały postęp i dużo czasu! Aby rozwiązać ten problem, możemy dodać punkt kontrolny modelu, który będzie zapisywać model w każdej epoce. Punkt kontrolny modelu jest jednym z wielu wywołań zwrotnych, których możesz używać w Keras podczas procesu szkolenia.\n",
    "\n",
    "Kolejnym przydatnym callbackiem jest **Early stopping** umożliwiający zatrzymanie procesu uczenia jeśli wyniki sieci nie ulegają polepszeniu. Jest to kolejna metoda regularyzacji zapobiegająca przeuczeniu modelu."
   ]
  },
  {
   "cell_type": "code",
   "execution_count": 52,
   "id": "9c3a7894",
   "metadata": {},
   "outputs": [],
   "source": [
    "creditcard_model2.compile(\n",
    "    optimizer = \"sgd\",\n",
    "    loss = \"categorical_crossentropy\",\n",
    "    metrics = (\"accuracy\"))"
   ]
  },
  {
   "cell_type": "code",
   "execution_count": 53,
   "id": "1e161529",
   "metadata": {},
   "outputs": [
    {
     "name": "stdout",
     "output_type": "stream",
     "text": [
      "Epoch 1/100\n",
      "713/713 [==============================] - 3s 3ms/step - loss: 0.1274 - accuracy: 0.9967 - val_loss: 0.0380 - val_accuracy: 0.9985\n",
      "Epoch 2/100\n",
      "713/713 [==============================] - 2s 3ms/step - loss: 0.0503 - accuracy: 0.9982 - val_loss: 0.0205 - val_accuracy: 0.9987\n",
      "Epoch 3/100\n",
      "713/713 [==============================] - 2s 3ms/step - loss: 0.0275 - accuracy: 0.9984 - val_loss: 0.0131 - val_accuracy: 0.9988\n",
      "Epoch 4/100\n",
      "713/713 [==============================] - 2s 3ms/step - loss: 0.0208 - accuracy: 0.9986 - val_loss: 0.0142 - val_accuracy: 0.9990\n",
      "Epoch 5/100\n",
      "713/713 [==============================] - 2s 3ms/step - loss: 0.0178 - accuracy: 0.9987 - val_loss: 0.0123 - val_accuracy: 0.9989\n",
      "Epoch 6/100\n",
      "713/713 [==============================] - 2s 3ms/step - loss: 0.0153 - accuracy: 0.9988 - val_loss: 0.0123 - val_accuracy: 0.9991\n",
      "Epoch 7/100\n",
      "713/713 [==============================] - 2s 3ms/step - loss: 0.0137 - accuracy: 0.9989 - val_loss: 0.0115 - val_accuracy: 0.9989\n",
      "Epoch 8/100\n",
      "713/713 [==============================] - 2s 3ms/step - loss: 0.0132 - accuracy: 0.9989 - val_loss: 0.0099 - val_accuracy: 0.9991\n",
      "Epoch 9/100\n",
      "713/713 [==============================] - 2s 3ms/step - loss: 0.0129 - accuracy: 0.9988 - val_loss: 0.0069 - val_accuracy: 0.9991\n",
      "Epoch 10/100\n",
      "713/713 [==============================] - 2s 3ms/step - loss: 0.0114 - accuracy: 0.9990 - val_loss: 0.0067 - val_accuracy: 0.9991\n",
      "Epoch 11/100\n",
      "713/713 [==============================] - 2s 3ms/step - loss: 0.0097 - accuracy: 0.9990 - val_loss: 0.0068 - val_accuracy: 0.9991\n",
      "Epoch 12/100\n",
      "713/713 [==============================] - 2s 3ms/step - loss: 0.0100 - accuracy: 0.9990 - val_loss: 0.0062 - val_accuracy: 0.9993\n",
      "Epoch 13/100\n",
      "713/713 [==============================] - 2s 3ms/step - loss: 0.0118 - accuracy: 0.9989 - val_loss: 0.0067 - val_accuracy: 0.9991\n",
      "Epoch 14/100\n",
      "713/713 [==============================] - 2s 3ms/step - loss: 0.0110 - accuracy: 0.9989 - val_loss: 0.0158 - val_accuracy: 0.9990\n",
      "Epoch 15/100\n",
      "713/713 [==============================] - 2s 3ms/step - loss: 0.0115 - accuracy: 0.9990 - val_loss: 0.0065 - val_accuracy: 0.9991\n",
      "Epoch 16/100\n",
      "713/713 [==============================] - 2s 3ms/step - loss: 0.0097 - accuracy: 0.9989 - val_loss: 0.0068 - val_accuracy: 0.9991\n",
      "Epoch 17/100\n",
      "713/713 [==============================] - 2s 3ms/step - loss: 0.0104 - accuracy: 0.9990 - val_loss: 0.0066 - val_accuracy: 0.9991\n",
      "Epoch 18/100\n",
      "713/713 [==============================] - 2s 3ms/step - loss: 0.0103 - accuracy: 0.9990 - val_loss: 0.0097 - val_accuracy: 0.9991\n",
      "Epoch 19/100\n",
      "713/713 [==============================] - 2s 3ms/step - loss: 0.0094 - accuracy: 0.9989 - val_loss: 0.0056 - val_accuracy: 0.9991\n",
      "Epoch 20/100\n",
      "713/713 [==============================] - 2s 3ms/step - loss: 0.0084 - accuracy: 0.9990 - val_loss: 0.0050 - val_accuracy: 0.9991\n",
      "Epoch 21/100\n",
      "713/713 [==============================] - 2s 3ms/step - loss: 0.0096 - accuracy: 0.9990 - val_loss: 0.0054 - val_accuracy: 0.9992\n",
      "Epoch 22/100\n",
      "713/713 [==============================] - 2s 3ms/step - loss: 0.0093 - accuracy: 0.9989 - val_loss: 0.0061 - val_accuracy: 0.9990\n",
      "Epoch 23/100\n",
      "713/713 [==============================] - 2s 3ms/step - loss: 0.0091 - accuracy: 0.9989 - val_loss: 0.0061 - val_accuracy: 0.9990\n",
      "Epoch 24/100\n",
      "713/713 [==============================] - 2s 3ms/step - loss: 0.0091 - accuracy: 0.9989 - val_loss: 0.0057 - val_accuracy: 0.9991\n",
      "Epoch 25/100\n",
      "713/713 [==============================] - 2s 3ms/step - loss: 0.0083 - accuracy: 0.9990 - val_loss: 0.0054 - val_accuracy: 0.9992\n",
      "Epoch 26/100\n",
      "713/713 [==============================] - 2s 3ms/step - loss: 0.0087 - accuracy: 0.9989 - val_loss: 0.0065 - val_accuracy: 0.9992\n",
      "Epoch 27/100\n",
      "713/713 [==============================] - 2s 3ms/step - loss: 0.0081 - accuracy: 0.9989 - val_loss: 0.0051 - val_accuracy: 0.9991\n",
      "Epoch 28/100\n",
      "713/713 [==============================] - 2s 3ms/step - loss: 0.0081 - accuracy: 0.9990 - val_loss: 0.0048 - val_accuracy: 0.9992\n",
      "Epoch 29/100\n",
      "713/713 [==============================] - 2s 3ms/step - loss: 0.0082 - accuracy: 0.9989 - val_loss: 0.0048 - val_accuracy: 0.9992\n",
      "Epoch 30/100\n",
      "713/713 [==============================] - 2s 3ms/step - loss: 0.0088 - accuracy: 0.9989 - val_loss: 0.0051 - val_accuracy: 0.9992\n",
      "Epoch 31/100\n",
      "713/713 [==============================] - 2s 3ms/step - loss: 0.0086 - accuracy: 0.9989 - val_loss: 0.0057 - val_accuracy: 0.9991\n",
      "Epoch 32/100\n",
      "713/713 [==============================] - 2s 3ms/step - loss: 0.0078 - accuracy: 0.9989 - val_loss: 0.0065 - val_accuracy: 0.9991\n",
      "Epoch 33/100\n",
      "713/713 [==============================] - 2s 3ms/step - loss: 0.0084 - accuracy: 0.9990 - val_loss: 0.0053 - val_accuracy: 0.9992\n",
      "Epoch 34/100\n",
      "713/713 [==============================] - 2s 3ms/step - loss: 0.0084 - accuracy: 0.9989 - val_loss: 0.0060 - val_accuracy: 0.9991\n",
      "Epoch 35/100\n",
      "713/713 [==============================] - 2s 3ms/step - loss: 0.0068 - accuracy: 0.9990 - val_loss: 0.0042 - val_accuracy: 0.9992\n",
      "Epoch 36/100\n",
      "713/713 [==============================] - 2s 3ms/step - loss: 0.0073 - accuracy: 0.9990 - val_loss: 0.0051 - val_accuracy: 0.9992\n",
      "Epoch 37/100\n",
      "713/713 [==============================] - 2s 3ms/step - loss: 0.0082 - accuracy: 0.9989 - val_loss: 0.0052 - val_accuracy: 0.9991\n",
      "Epoch 38/100\n",
      "713/713 [==============================] - 2s 3ms/step - loss: 0.0077 - accuracy: 0.9990 - val_loss: 0.0049 - val_accuracy: 0.9991\n",
      "Epoch 39/100\n",
      "713/713 [==============================] - 2s 3ms/step - loss: 0.0076 - accuracy: 0.9990 - val_loss: 0.0046 - val_accuracy: 0.9992\n",
      "Epoch 40/100\n",
      "713/713 [==============================] - 2s 3ms/step - loss: 0.0081 - accuracy: 0.9989 - val_loss: 0.0052 - val_accuracy: 0.9990\n",
      "Epoch 41/100\n",
      "713/713 [==============================] - 2s 3ms/step - loss: 0.0073 - accuracy: 0.9990 - val_loss: 0.0053 - val_accuracy: 0.9991\n",
      "Epoch 42/100\n",
      "713/713 [==============================] - 2s 3ms/step - loss: 0.0074 - accuracy: 0.9990 - val_loss: 0.0051 - val_accuracy: 0.9991\n",
      "Epoch 43/100\n",
      "713/713 [==============================] - 2s 3ms/step - loss: 0.0071 - accuracy: 0.9989 - val_loss: 0.0061 - val_accuracy: 0.9991\n",
      "Epoch 44/100\n",
      "713/713 [==============================] - 2s 3ms/step - loss: 0.0067 - accuracy: 0.9989 - val_loss: 0.0044 - val_accuracy: 0.9992\n",
      "Epoch 45/100\n",
      "713/713 [==============================] - 2s 3ms/step - loss: 0.0064 - accuracy: 0.9990 - val_loss: 0.0048 - val_accuracy: 0.9991\n"
     ]
    }
   ],
   "source": [
    "history = creditcard_model2.fit(\n",
    "    x = creditcard_train_X,\n",
    "    y = creditcard_train_Y,\n",
    "    validation_split = 0.2, # 20% zbioru uczącego przeznaczonego na walidację\n",
    "    epochs = 100, # Liczba \"pętli/przejść\" bo całym zbiorze treningowym\n",
    "    batch_size = 256, # Wielkość próbki (batcha) dla jednej iteracji algorytmu SGD\n",
    "    verbose = 1,\n",
    "    callbacks = [tf.keras.callbacks.EarlyStopping(monitor = 'val_loss', patience = 10),\n",
    "                tf.keras.callbacks.ModelCheckpoint(filepath = \"models/creditcard_best.hdf5\",\n",
    "                                                  monitor = \"val_loss\", save_best_only = True)]\n",
    ")"
   ]
  },
  {
   "cell_type": "code",
   "execution_count": 54,
   "id": "5ffd7f88",
   "metadata": {},
   "outputs": [
    {
     "data": {
      "image/png": "[encoded data removed]",
      "text/plain": [
       "<Figure size 432x288 with 1 Axes>"
      ]
     },
     "metadata": {
      "needs_background": "light"
     },
     "output_type": "display_data"
    }
   ],
   "source": [
    "plt.plot(history.history['accuracy'])\n",
    "plt.plot(history.history['val_accuracy'])\n",
    "plt.title('model Accuracy')\n",
    "plt.ylabel('Accuracy')\n",
    "plt.xlabel('epoch')\n",
    "plt.legend(['train', 'val'], loc='upper left')\n",
    "plt.show()"
   ]
  },
  {
   "cell_type": "code",
   "execution_count": 55,
   "id": "c2aa5080",
   "metadata": {},
   "outputs": [
    {
     "name": "stdout",
     "output_type": "stream",
     "text": [
      "1781/1781 [==============================] - 3s 2ms/step - loss: 0.0056 - accuracy: 0.9992\n"
     ]
    },
    {
     "data": {
      "text/plain": [
       "[0.005560206715017557, 0.9991748929023743]"
      ]
     },
     "execution_count": 55,
     "metadata": {},
     "output_type": "execute_result"
    }
   ],
   "source": [
    "creditcard_model2.evaluate(creditcard_test_X, creditcard_test_Y)"
   ]
  },
  {
   "cell_type": "code",
   "execution_count": 56,
   "id": "839e5088",
   "metadata": {},
   "outputs": [
    {
     "name": "stdout",
     "output_type": "stream",
     "text": [
      "1781/1781 [==============================] - 2s 1ms/step\n"
     ]
    },
    {
     "data": {
      "text/html": [
       "<div>\n",
       "<style scoped>\n",
       "    .dataframe tbody tr th:only-of-type {\n",
       "        vertical-align: middle;\n",
       "    }\n",
       "\n",
       "    .dataframe tbody tr th {\n",
       "        vertical-align: top;\n",
       "    }\n",
       "\n",
       "    .dataframe thead th {\n",
       "        text-align: right;\n",
       "    }\n",
       "</style>\n",
       "<table border=\"1\" class=\"dataframe\">\n",
       "  <thead>\n",
       "    <tr style=\"text-align: right;\">\n",
       "      <th>predicted</th>\n",
       "      <th>0</th>\n",
       "      <th>1</th>\n",
       "    </tr>\n",
       "    <tr>\n",
       "      <th>true</th>\n",
       "      <th></th>\n",
       "      <th></th>\n",
       "    </tr>\n",
       "  </thead>\n",
       "  <tbody>\n",
       "    <tr>\n",
       "      <th>0.0</th>\n",
       "      <td>56854</td>\n",
       "      <td>9</td>\n",
       "    </tr>\n",
       "    <tr>\n",
       "      <th>1.0</th>\n",
       "      <td>38</td>\n",
       "      <td>61</td>\n",
       "    </tr>\n",
       "  </tbody>\n",
       "</table>\n",
       "</div>"
      ],
      "text/plain": [
       "predicted      0   1\n",
       "true                \n",
       "0.0        56854   9\n",
       "1.0           38  61"
      ]
     },
     "execution_count": 56,
     "metadata": {},
     "output_type": "execute_result"
    }
   ],
   "source": [
    "pd.crosstab(creditcard_test_Y[:, 1], np.argmax(creditcard_model2.predict(creditcard_test_X), axis=-1),\n",
    "           rownames = [\"true\"], colnames = [\"predicted\"])"
   ]
  },
  {
   "cell_type": "markdown",
   "id": "d9373f19",
   "metadata": {},
   "source": [
    "# MLP dla zadania regresji wieloklasowej - praca domowa"
   ]
  },
  {
   "cell_type": "markdown",
   "id": "689844e0",
   "metadata": {},
   "source": [
    "W podobny sposób możemy zbudować model sekwencyjny dla problemu klasyfikacji wieloklasowej. Korzystając ze zbioru FASHION MNIST zbuduj sieć MLP, która klasyfikuje dany obraz do jedne z 10 klas:\n",
    "\n",
    " - 0\tT-shirt/top\n",
    " - 1\tTrouser\n",
    " - 2\tPullover\n",
    " - 3\tDress\n",
    " - 4\tCoat\n",
    " - 5\tSandal\n",
    " - 6\tShirt\n",
    " - 7\tSneaker\n",
    " - 8\tBag\n",
    " - 9\tAnkle boot"
   ]
  },
  {
   "cell_type": "code",
   "execution_count": 60,
   "id": "eff8dd11",
   "metadata": {},
   "outputs": [
    {
     "name": "stdout",
     "output_type": "stream",
     "text": [
      "(60000, 784)\n",
      "(60000, 1)\n"
     ]
    }
   ],
   "source": [
    "fashion_mnist_train_X = pd.read_csv(\"data/fashion_mnist_train_X\", sep=\" \").to_numpy()\n",
    "fashion_mnist_test_X = pd.read_csv(\"data/fashion_mnist_test_X\", sep=\" \").to_numpy()\n",
    "fashion_mnist_train_Y = pd.read_csv(\"data/fashion_mnist_train_Y\", sep=\" \").to_numpy()\n",
    "fashion_mnist_test_Y = pd.read_csv(\"data/fashion_mnist_test_Y\", sep=\" \").to_numpy()\n",
    "\n",
    "fashion_mnist_train_X = fashion_mnist_train_X / 255\n",
    "fashion_mnist_test_X = fashion_mnist_test_X / 255\n",
    "\n",
    "print(fashion_mnist_train_X.shape)\n",
    "print(fashion_mnist_train_Y.shape)"
   ]
  },
  {
   "cell_type": "code",
   "execution_count": 61,
   "id": "98daf291",
   "metadata": {},
   "outputs": [
    {
     "data": {
      "text/plain": [
       "<matplotlib.image.AxesImage at 0x7f4f00326f40>"
      ]
     },
     "execution_count": 61,
     "metadata": {},
     "output_type": "execute_result"
    },
    {
     "data": {
      "image/png": "[encoded data removed]",
      "text/plain": [
       "<Figure size 288x288 with 1 Axes>"
      ]
     },
     "metadata": {
      "needs_background": "light"
     },
     "output_type": "display_data"
    }
   ],
   "source": [
    "import matplotlib.pyplot as plt\n",
    "plt.matshow(fashion_mnist_train_X[0,:].reshape((28,28)))"
   ]
  },
  {
   "cell_type": "code",
   "execution_count": 62,
   "id": "b2a86aef",
   "metadata": {},
   "outputs": [
    {
     "name": "stdout",
     "output_type": "stream",
     "text": [
      "Model: \"sequential_7\"\n",
      "_________________________________________________________________\n",
      " Layer (type)                Output Shape              Param #   \n",
      "=================================================================\n",
      " dense_18 (Dense)            (None, 512)               401920    \n",
      "                                                                 \n",
      " dropout_4 (Dropout)         (None, 512)               0         \n",
      "                                                                 \n",
      " dense_19 (Dense)            (None, 512)               262656    \n",
      "                                                                 \n",
      " dropout_5 (Dropout)         (None, 512)               0         \n",
      "                                                                 \n",
      " dense_20 (Dense)            (None, 10)                5130      \n",
      "                                                                 \n",
      "=================================================================\n",
      "Total params: 669,706\n",
      "Trainable params: 669,706\n",
      "Non-trainable params: 0\n",
      "_________________________________________________________________\n",
      "Epoch 1/20\n",
      "375/375 [==============================] - 2s 4ms/step - loss: 1.1792 - accuracy: 0.6307 - val_loss: 0.7446 - val_accuracy: 0.7562\n",
      "Epoch 2/20\n",
      "375/375 [==============================] - 1s 3ms/step - loss: 0.7404 - accuracy: 0.7518 - val_loss: 0.6265 - val_accuracy: 0.7901\n",
      "Epoch 3/20\n",
      "375/375 [==============================] - 1s 3ms/step - loss: 0.6475 - accuracy: 0.7813 - val_loss: 0.5744 - val_accuracy: 0.8073\n",
      "Epoch 4/20\n",
      "375/375 [==============================] - 1s 3ms/step - loss: 0.5952 - accuracy: 0.7962 - val_loss: 0.5382 - val_accuracy: 0.8170\n",
      "Epoch 5/20\n",
      "375/375 [==============================] - 1s 3ms/step - loss: 0.5625 - accuracy: 0.8073 - val_loss: 0.5143 - val_accuracy: 0.8251\n",
      "Epoch 6/20\n",
      "375/375 [==============================] - 1s 3ms/step - loss: 0.5378 - accuracy: 0.8154 - val_loss: 0.4973 - val_accuracy: 0.8330\n",
      "Epoch 7/20\n",
      "375/375 [==============================] - 1s 3ms/step - loss: 0.5210 - accuracy: 0.8197 - val_loss: 0.4879 - val_accuracy: 0.8324\n",
      "Epoch 8/20\n",
      "375/375 [==============================] - 1s 3ms/step - loss: 0.5016 - accuracy: 0.8251 - val_loss: 0.4711 - val_accuracy: 0.8403\n",
      "Epoch 9/20\n",
      "375/375 [==============================] - 1s 3ms/step - loss: 0.4897 - accuracy: 0.8307 - val_loss: 0.4612 - val_accuracy: 0.8433\n",
      "Epoch 10/20\n",
      "375/375 [==============================] - 1s 3ms/step - loss: 0.4790 - accuracy: 0.8312 - val_loss: 0.4530 - val_accuracy: 0.8469\n",
      "Epoch 11/20\n",
      "375/375 [==============================] - 1s 3ms/step - loss: 0.4690 - accuracy: 0.8360 - val_loss: 0.4455 - val_accuracy: 0.8493\n",
      "Epoch 12/20\n",
      "375/375 [==============================] - 1s 3ms/step - loss: 0.4579 - accuracy: 0.8401 - val_loss: 0.4407 - val_accuracy: 0.8482\n",
      "Epoch 13/20\n",
      "375/375 [==============================] - 1s 3ms/step - loss: 0.4523 - accuracy: 0.8423 - val_loss: 0.4322 - val_accuracy: 0.8528\n",
      "Epoch 14/20\n",
      "375/375 [==============================] - 1s 3ms/step - loss: 0.4452 - accuracy: 0.8431 - val_loss: 0.4301 - val_accuracy: 0.8520\n",
      "Epoch 15/20\n",
      "375/375 [==============================] - 1s 3ms/step - loss: 0.4371 - accuracy: 0.8476 - val_loss: 0.4216 - val_accuracy: 0.8555\n",
      "Epoch 16/20\n",
      "375/375 [==============================] - 1s 3ms/step - loss: 0.4291 - accuracy: 0.8497 - val_loss: 0.4170 - val_accuracy: 0.8568\n",
      "Epoch 17/20\n",
      "375/375 [==============================] - 1s 3ms/step - loss: 0.4253 - accuracy: 0.8494 - val_loss: 0.4142 - val_accuracy: 0.8583\n",
      "Epoch 18/20\n",
      "375/375 [==============================] - 1s 3ms/step - loss: 0.4211 - accuracy: 0.8517 - val_loss: 0.4117 - val_accuracy: 0.8587\n",
      "Epoch 19/20\n",
      "375/375 [==============================] - 1s 3ms/step - loss: 0.4132 - accuracy: 0.8538 - val_loss: 0.4040 - val_accuracy: 0.8605\n",
      "Epoch 20/20\n",
      "375/375 [==============================] - 1s 3ms/step - loss: 0.4084 - accuracy: 0.8542 - val_loss: 0.4012 - val_accuracy: 0.8612\n"
     ]
    }
   ],
   "source": [
    "# TASK: Create MLP for fashion MNIST classification.\n",
    "# Change labels vectors to one-hot-encoding matrix using to_categorical() method\n",
    "fashion_mnist_train_Y = tf.keras.utils.to_categorical(fashion_mnist_train_Y, 10)\n",
    "fashion_mnist_test_Y = tf.keras.utils.to_categorical(fashion_mnist_test_Y, 10)\n",
    "# Model architecture:\n",
    "# Dense layer with 512 units and \"relu\" activation\n",
    "# Dropout layer with 20% drop rate\n",
    "# Dense layer with 512 units and \"relu\" activation\n",
    "# Dropout layer with 20% drop rate\n",
    "# Output dense layer (how many units and what activation should You use?)\n",
    "fmodel = tf.keras.Sequential()\n",
    "fmodel.add(\n",
    "    tf.keras.layers.Dense(units = 512, # Liczba neuronów w warstwie ukrytej\n",
    "                             activation = \"relu\", # Funkcja aktywacji\n",
    "                             input_shape = (784,)) # Liczba predyktorów - tylko w pierwszej warstwie\n",
    ")\n",
    "fmodel.add(tf.keras.layers.Dropout(0.2))\n",
    "fmodel.add(\n",
    "    tf.keras.layers.Dense(units = 512, # Liczba neuronów w warstwie ukrytej\n",
    "                             activation = \"relu\") # Funkcja aktywacji\n",
    ")\n",
    "fmodel.add(tf.keras.layers.Dropout(0.2))\n",
    "fmodel.add(\n",
    "    tf.keras.layers.Dense(units = 10, # Liczba neuronów w warstwie wyjścia\n",
    "                             activation = \"softmax\") # Funkcja aktywacji\n",
    ")\n",
    "fmodel.summary()\n",
    "\n",
    "# Set SGD as optimizer and use categorical crossentropy as loss function. Use accuracy as additional metric.\n",
    "fmodel.compile(\n",
    "    optimizer = \"sgd\",\n",
    "    loss = \"categorical_crossentropy\",\n",
    "    metrics = (\"accuracy\"))\n",
    "# Fit the model. Use 20% of the data for validation, 20 epochs and 128 samples for batch size.\n",
    "# Use model checkpoint and early stopping.\n",
    "history = fmodel.fit(\n",
    "    x = fashion_mnist_train_X,\n",
    "    y = fashion_mnist_train_Y,\n",
    "    validation_split = 0.2, # 20% zbioru uczącego przeznaczonego na walidację\n",
    "    epochs = 20, # Liczba \"pętli/przejść\" bo całym zbiorze treningowym\n",
    "    batch_size = 128, # Wielkość próbki (batcha) dla jednej iteracji algorytmu SGD\n",
    "    verbose = 1,\n",
    "    callbacks = [tf.keras.callbacks.EarlyStopping(monitor = 'val_loss', patience = 10),\n",
    "                tf.keras.callbacks.ModelCheckpoint(filepath = \"models/fmodel.hdf5\",\n",
    "                                                  monitor = \"val_loss\", save_best_only = True)]\n",
    ")\n",
    "# Evaluate model on test set."
   ]
  },
  {
   "cell_type": "code",
   "execution_count": null,
   "id": "eac5ef9b",
   "metadata": {},
   "outputs": [],
   "source": []
  }
 ],
 "metadata": {
  "kernelspec": {
   "display_name": "Python 3 (ipykernel)",
   "language": "python",
   "name": "python3"
  },
  "language_info": {
   "codemirror_mode": {
    "name": "ipython",
    "version": 3
   },
   "file_extension": ".py",
   "mimetype": "text/x-python",
   "name": "python",
   "nbconvert_exporter": "python",
   "pygments_lexer": "ipython3",
   "version": "3.9.12"
  }
 },
 "nbformat": 4,
 "nbformat_minor": 5
}
