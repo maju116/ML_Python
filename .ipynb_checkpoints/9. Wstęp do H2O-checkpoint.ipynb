{
 "cells": [
  {
   "cell_type": "code",
   "execution_count": 1,
   "id": "985b909e",
   "metadata": {},
   "outputs": [],
   "source": [
    "import pickle\n",
    "import os\n",
    "import numpy as np\n",
    "import matplotlib.pyplot as plt\n",
    "\n",
    "filepaths = os.listdir(\"data/creditcard/\")\n",
    "for fp in filepaths:\n",
    "    with open(\"data/creditcard/\" + fp, 'rb') as f:\n",
    "        globals()[fp.replace(\".pickle\", \"\")] = pickle.load(f)"
   ]
  },
  {
   "cell_type": "markdown",
   "id": "5237f6c1",
   "metadata": {},
   "source": [
    "Zbiór ten zawiera 29 predyktorów (28 zakodowanych zmiennych bankowych przy pomocy PCA + znormalizowaną wielkość tranzakcji). Jest on ekstremalnie niezbalansowany."
   ]
  },
  {
   "cell_type": "code",
   "execution_count": 2,
   "id": "4028d4c1",
   "metadata": {},
   "outputs": [
    {
     "name": "stdout",
     "output_type": "stream",
     "text": [
      "0.17424126050604577\n",
      "0.1667778519012675\n"
     ]
    }
   ],
   "source": [
    "print(creditcard_train_Y.sum() / len(creditcard_train_Y) * 100)\n",
    "print(creditcard_test_Y.sum() / len(creditcard_test_Y) * 100)"
   ]
  },
  {
   "cell_type": "markdown",
   "id": "0de897a9",
   "metadata": {},
   "source": [
    "Tak jak poprzednio zacznijmy od modelu referencyjnego - regresji logistycznej:"
   ]
  },
  {
   "cell_type": "code",
   "execution_count": 3,
   "id": "41e5993c",
   "metadata": {},
   "outputs": [
    {
     "name": "stdout",
     "output_type": "stream",
     "text": [
      "Optimization terminated successfully.\n",
      "         Current function value: 0.003871\n",
      "         Iterations 14\n"
     ]
    },
    {
     "data": {
      "text/html": [
       "<table class=\"simpletable\">\n",
       "<tr>\n",
       "        <td>Model:</td>              <td>Logit</td>      <td>Pseudo R-squared:</td>   <td>0.698</td>  \n",
       "</tr>\n",
       "<tr>\n",
       "  <td>Dependent Variable:</td>         <td>y</td>              <td>AIC:</td>        <td>1822.1019</td>\n",
       "</tr>\n",
       "<tr>\n",
       "         <td>Date:</td>        <td>2023-03-09 17:05</td>       <td>BIC:</td>        <td>2121.8581</td>\n",
       "</tr>\n",
       "<tr>\n",
       "   <td>No. Observations:</td>       <td>227845</td>       <td>Log-Likelihood:</td>   <td>-882.05</td> \n",
       "</tr>\n",
       "<tr>\n",
       "       <td>Df Model:</td>             <td>28</td>            <td>LL-Null:</td>       <td>-2918.6</td> \n",
       "</tr>\n",
       "<tr>\n",
       "     <td>Df Residuals:</td>         <td>227816</td>        <td>LLR p-value:</td>     <td>0.0000</td>  \n",
       "</tr>\n",
       "<tr>\n",
       "      <td>Converged:</td>           <td>1.0000</td>           <td>Scale:</td>        <td>1.0000</td>  \n",
       "</tr>\n",
       "<tr>\n",
       "    <td>No. Iterations:</td>        <td>14.0000</td>             <td></td>              <td></td>     \n",
       "</tr>\n",
       "</table>\n",
       "<table class=\"simpletable\">\n",
       "<tr>\n",
       "   <td></td>    <th>Coef.</th>  <th>Std.Err.</th>    <th>z</th>     <th>P>|z|</th> <th>[0.025</th>  <th>0.975]</th> \n",
       "</tr>\n",
       "<tr>\n",
       "  <th>x1</th>  <td>0.0843</td>   <td>0.0443</td>  <td>1.9049</td>  <td>0.0568</td> <td>-0.0024</td> <td>0.1711</td> \n",
       "</tr>\n",
       "<tr>\n",
       "  <th>x2</th>  <td>0.0033</td>   <td>0.0602</td>  <td>0.0552</td>  <td>0.9560</td> <td>-0.1146</td> <td>0.1213</td> \n",
       "</tr>\n",
       "<tr>\n",
       "  <th>x3</th>  <td>0.0748</td>   <td>0.0503</td>  <td>1.4888</td>  <td>0.1365</td> <td>-0.0237</td> <td>0.1733</td> \n",
       "</tr>\n",
       "<tr>\n",
       "  <th>x4</th>  <td>0.7432</td>   <td>0.0869</td>  <td>8.5474</td>  <td>0.0000</td> <td>0.5727</td>  <td>0.9136</td> \n",
       "</tr>\n",
       "<tr>\n",
       "  <th>x5</th>  <td>0.0748</td>   <td>0.0718</td>  <td>1.0425</td>  <td>0.2972</td> <td>-0.0658</td> <td>0.2155</td> \n",
       "</tr>\n",
       "<tr>\n",
       "  <th>x6</th>  <td>-0.0964</td>  <td>0.0850</td>  <td>-1.1350</td> <td>0.2564</td> <td>-0.2629</td> <td>0.0701</td> \n",
       "</tr>\n",
       "<tr>\n",
       "  <th>x7</th>  <td>-0.0912</td>  <td>0.0625</td>  <td>-1.4589</td> <td>0.1446</td> <td>-0.2138</td> <td>0.0313</td> \n",
       "</tr>\n",
       "<tr>\n",
       "  <th>x8</th>  <td>-0.1664</td>  <td>0.0319</td>  <td>-5.2123</td> <td>0.0000</td> <td>-0.2289</td> <td>-0.1038</td>\n",
       "</tr>\n",
       "<tr>\n",
       "  <th>x9</th>  <td>-0.2541</td>  <td>0.1325</td>  <td>-1.9179</td> <td>0.0551</td> <td>-0.5137</td> <td>0.0056</td> \n",
       "</tr>\n",
       "<tr>\n",
       "  <th>x10</th> <td>-0.8602</td>  <td>0.1159</td>  <td>-7.4186</td> <td>0.0000</td> <td>-1.0874</td> <td>-0.6329</td>\n",
       "</tr>\n",
       "<tr>\n",
       "  <th>x11</th> <td>0.0958</td>   <td>0.0862</td>  <td>1.1120</td>  <td>0.2661</td> <td>-0.0731</td> <td>0.2647</td> \n",
       "</tr>\n",
       "<tr>\n",
       "  <th>x12</th> <td>0.0787</td>   <td>0.0946</td>  <td>0.8321</td>  <td>0.4054</td> <td>-0.1067</td> <td>0.2641</td> \n",
       "</tr>\n",
       "<tr>\n",
       "  <th>x13</th> <td>-0.3608</td>  <td>0.0937</td>  <td>-3.8521</td> <td>0.0001</td> <td>-0.5443</td> <td>-0.1772</td>\n",
       "</tr>\n",
       "<tr>\n",
       "  <th>x14</th> <td>-0.5478</td>  <td>0.0690</td>  <td>-7.9344</td> <td>0.0000</td> <td>-0.6831</td> <td>-0.4125</td>\n",
       "</tr>\n",
       "<tr>\n",
       "  <th>x15</th> <td>-0.0696</td>  <td>0.0948</td>  <td>-0.7338</td> <td>0.4630</td> <td>-0.2554</td> <td>0.1162</td> \n",
       "</tr>\n",
       "<tr>\n",
       "  <th>x16</th> <td>-0.0480</td>  <td>0.1589</td>  <td>-0.3018</td> <td>0.7628</td> <td>-0.3594</td> <td>0.2635</td> \n",
       "</tr>\n",
       "<tr>\n",
       "  <th>x17</th> <td>0.0013</td>   <td>0.0763</td>  <td>0.0164</td>  <td>0.9869</td> <td>-0.1483</td> <td>0.1508</td> \n",
       "</tr>\n",
       "<tr>\n",
       "  <th>x18</th> <td>-0.1972</td>  <td>0.1569</td>  <td>-1.2569</td> <td>0.2088</td> <td>-0.5047</td> <td>0.1103</td> \n",
       "</tr>\n",
       "<tr>\n",
       "  <th>x19</th> <td>0.1507</td>   <td>0.1122</td>  <td>1.3429</td>  <td>0.1793</td> <td>-0.0693</td> <td>0.3707</td> \n",
       "</tr>\n",
       "<tr>\n",
       "  <th>x20</th> <td>-0.3775</td>  <td>0.0760</td>  <td>-4.9688</td> <td>0.0000</td> <td>-0.5264</td> <td>-0.2286</td>\n",
       "</tr>\n",
       "<tr>\n",
       "  <th>x21</th> <td>0.3734</td>   <td>0.0659</td>  <td>5.6705</td>  <td>0.0000</td> <td>0.2444</td>  <td>0.5025</td> \n",
       "</tr>\n",
       "<tr>\n",
       "  <th>x22</th> <td>0.4916</td>   <td>0.1454</td>  <td>3.3808</td>  <td>0.0007</td> <td>0.2066</td>  <td>0.7765</td> \n",
       "</tr>\n",
       "<tr>\n",
       "  <th>x23</th> <td>-0.0474</td>  <td>0.0670</td>  <td>-0.7085</td> <td>0.4786</td> <td>-0.1787</td> <td>0.0838</td> \n",
       "</tr>\n",
       "<tr>\n",
       "  <th>x24</th> <td>0.2110</td>   <td>0.1696</td>  <td>1.2437</td>  <td>0.2136</td> <td>-0.1215</td> <td>0.5434</td> \n",
       "</tr>\n",
       "<tr>\n",
       "  <th>x25</th> <td>-0.1179</td>  <td>0.1474</td>  <td>-0.8000</td> <td>0.4237</td> <td>-0.4067</td> <td>0.1709</td> \n",
       "</tr>\n",
       "<tr>\n",
       "  <th>x26</th> <td>0.0558</td>   <td>0.2061</td>  <td>0.2708</td>  <td>0.7866</td> <td>-0.3482</td> <td>0.4598</td> \n",
       "</tr>\n",
       "<tr>\n",
       "  <th>x27</th> <td>-0.8037</td>  <td>0.1367</td>  <td>-5.8794</td> <td>0.0000</td> <td>-1.0716</td> <td>-0.5358</td>\n",
       "</tr>\n",
       "<tr>\n",
       "  <th>x28</th> <td>-0.2721</td>  <td>0.1007</td>  <td>-2.7020</td> <td>0.0069</td> <td>-0.4695</td> <td>-0.0747</td>\n",
       "</tr>\n",
       "<tr>\n",
       "  <th>x29</th> <td>8.7369</td>   <td>0.1713</td>  <td>51.0016</td> <td>0.0000</td> <td>8.4012</td>  <td>9.0727</td> \n",
       "</tr>\n",
       "</table>"
      ],
      "text/plain": [
       "<class 'statsmodels.iolib.summary2.Summary'>\n",
       "\"\"\"\n",
       "                         Results: Logit\n",
       "================================================================\n",
       "Model:              Logit            Pseudo R-squared: 0.698    \n",
       "Dependent Variable: y                AIC:              1822.1019\n",
       "Date:               2023-03-09 17:05 BIC:              2121.8581\n",
       "No. Observations:   227845           Log-Likelihood:   -882.05  \n",
       "Df Model:           28               LL-Null:          -2918.6  \n",
       "Df Residuals:       227816           LLR p-value:      0.0000   \n",
       "Converged:          1.0000           Scale:            1.0000   \n",
       "No. Iterations:     14.0000                                     \n",
       "------------------------------------------------------------------\n",
       "          Coef.    Std.Err.      z      P>|z|     [0.025    0.975]\n",
       "------------------------------------------------------------------\n",
       "x1        0.0843     0.0443    1.9049   0.0568   -0.0024    0.1711\n",
       "x2        0.0033     0.0602    0.0552   0.9560   -0.1146    0.1213\n",
       "x3        0.0748     0.0503    1.4888   0.1365   -0.0237    0.1733\n",
       "x4        0.7432     0.0869    8.5474   0.0000    0.5727    0.9136\n",
       "x5        0.0748     0.0718    1.0425   0.2972   -0.0658    0.2155\n",
       "x6       -0.0964     0.0850   -1.1350   0.2564   -0.2629    0.0701\n",
       "x7       -0.0912     0.0625   -1.4589   0.1446   -0.2138    0.0313\n",
       "x8       -0.1664     0.0319   -5.2123   0.0000   -0.2289   -0.1038\n",
       "x9       -0.2541     0.1325   -1.9179   0.0551   -0.5137    0.0056\n",
       "x10      -0.8602     0.1159   -7.4186   0.0000   -1.0874   -0.6329\n",
       "x11       0.0958     0.0862    1.1120   0.2661   -0.0731    0.2647\n",
       "x12       0.0787     0.0946    0.8321   0.4054   -0.1067    0.2641\n",
       "x13      -0.3608     0.0937   -3.8521   0.0001   -0.5443   -0.1772\n",
       "x14      -0.5478     0.0690   -7.9344   0.0000   -0.6831   -0.4125\n",
       "x15      -0.0696     0.0948   -0.7338   0.4630   -0.2554    0.1162\n",
       "x16      -0.0480     0.1589   -0.3018   0.7628   -0.3594    0.2635\n",
       "x17       0.0013     0.0763    0.0164   0.9869   -0.1483    0.1508\n",
       "x18      -0.1972     0.1569   -1.2569   0.2088   -0.5047    0.1103\n",
       "x19       0.1507     0.1122    1.3429   0.1793   -0.0693    0.3707\n",
       "x20      -0.3775     0.0760   -4.9688   0.0000   -0.5264   -0.2286\n",
       "x21       0.3734     0.0659    5.6705   0.0000    0.2444    0.5025\n",
       "x22       0.4916     0.1454    3.3808   0.0007    0.2066    0.7765\n",
       "x23      -0.0474     0.0670   -0.7085   0.4786   -0.1787    0.0838\n",
       "x24       0.2110     0.1696    1.2437   0.2136   -0.1215    0.5434\n",
       "x25      -0.1179     0.1474   -0.8000   0.4237   -0.4067    0.1709\n",
       "x26       0.0558     0.2061    0.2708   0.7866   -0.3482    0.4598\n",
       "x27      -0.8037     0.1367   -5.8794   0.0000   -1.0716   -0.5358\n",
       "x28      -0.2721     0.1007   -2.7020   0.0069   -0.4695   -0.0747\n",
       "x29       8.7369     0.1713   51.0016   0.0000    8.4012    9.0727\n",
       "================================================================\n",
       "\n",
       "\"\"\""
      ]
     },
     "execution_count": 3,
     "metadata": {},
     "output_type": "execute_result"
    }
   ],
   "source": [
    "import statsmodels.api as sm\n",
    "\n",
    "logit_model = sm.Logit(creditcard_train_Y, creditcard_train_X).fit()\n",
    "logit_model.summary2()"
   ]
  },
  {
   "cell_type": "markdown",
   "id": "0d5ea98e",
   "metadata": {},
   "source": [
    "Jak widać otrzymaliśmy duzą ilość niesistotnych mziennych. Naszym kolejnym krokiem powinno być odrzucenie nieistotnych zmiennych (pojedynczo!), sprawdzenie współliniowości miedzy zmiennymi, do czasu aż dojdziemy do modelu, który jest poprawnie skonstruowany i widać w nim objawów overfittingu. \n",
    "\n",
    "Zamiast robić to wszystko ręcznie i krok po kroku, spróbujmy czegoś innego.\n",
    "\n",
    "# Regularyzacja LASSO, Ridge i Elastic Net w H2O"
   ]
  },
  {
   "cell_type": "code",
   "execution_count": 4,
   "id": "1c4f6c07",
   "metadata": {},
   "outputs": [
    {
     "name": "stdout",
     "output_type": "stream",
     "text": [
      "Checking whether there is an H2O instance running at http://localhost:54321..... not found.\n",
      "Attempting to start a local H2O server...\n",
      "  Java Version: openjdk version \"11.0.18\" 2023-01-17; OpenJDK Runtime Environment (build 11.0.18+10-post-Ubuntu-0ubuntu122.04); OpenJDK 64-Bit Server VM (build 11.0.18+10-post-Ubuntu-0ubuntu122.04, mixed mode, sharing)\n",
      "  Starting server from /home/maju116/anaconda3/lib/python3.9/site-packages/h2o/backend/bin/h2o.jar\n",
      "  Ice root: /tmp/tmpvnybflt3\n",
      "  JVM stdout: /tmp/tmpvnybflt3/h2o_maju116_started_from_python.out\n",
      "  JVM stderr: /tmp/tmpvnybflt3/h2o_maju116_started_from_python.err\n",
      "  Server is running at http://127.0.0.1:54321\n",
      "Connecting to H2O server at http://127.0.0.1:54321 ... successful.\n"
     ]
    },
    {
     "data": {
      "text/html": [
       "\n",
       "<style>\n",
       "\n",
       "#h2o-table-1.h2o-container {\n",
       "  overflow-x: auto;\n",
       "}\n",
       "#h2o-table-1 .h2o-table {\n",
       "  /* width: 100%; */\n",
       "  margin-top: 1em;\n",
       "  margin-bottom: 1em;\n",
       "}\n",
       "#h2o-table-1 .h2o-table caption {\n",
       "  white-space: nowrap;\n",
       "  caption-side: top;\n",
       "  text-align: left;\n",
       "  /* margin-left: 1em; */\n",
       "  margin: 0;\n",
       "  font-size: larger;\n",
       "}\n",
       "#h2o-table-1 .h2o-table thead {\n",
       "  white-space: nowrap; \n",
       "  position: sticky;\n",
       "  top: 0;\n",
       "  box-shadow: 0 -1px inset;\n",
       "}\n",
       "#h2o-table-1 .h2o-table tbody {\n",
       "  overflow: auto;\n",
       "}\n",
       "#h2o-table-1 .h2o-table th,\n",
       "#h2o-table-1 .h2o-table td {\n",
       "  text-align: right;\n",
       "  /* border: 1px solid; */\n",
       "}\n",
       "#h2o-table-1 .h2o-table tr:nth-child(even) {\n",
       "  /* background: #F5F5F5 */\n",
       "}\n",
       "\n",
       "</style>      \n",
       "<div id=\"h2o-table-1\" class=\"h2o-container\">\n",
       "  <table class=\"h2o-table\">\n",
       "    <caption></caption>\n",
       "    <thead></thead>\n",
       "    <tbody><tr><td>H2O_cluster_uptime:</td>\n",
       "<td>06 secs</td></tr>\n",
       "<tr><td>H2O_cluster_timezone:</td>\n",
       "<td>Europe/Warsaw</td></tr>\n",
       "<tr><td>H2O_data_parsing_timezone:</td>\n",
       "<td>UTC</td></tr>\n",
       "<tr><td>H2O_cluster_version:</td>\n",
       "<td>3.40.0.1</td></tr>\n",
       "<tr><td>H2O_cluster_version_age:</td>\n",
       "<td>1 month</td></tr>\n",
       "<tr><td>H2O_cluster_name:</td>\n",
       "<td>H2O_from_python_maju116_nfp3ca</td></tr>\n",
       "<tr><td>H2O_cluster_total_nodes:</td>\n",
       "<td>1</td></tr>\n",
       "<tr><td>H2O_cluster_free_memory:</td>\n",
       "<td>20 Gb</td></tr>\n",
       "<tr><td>H2O_cluster_total_cores:</td>\n",
       "<td>8</td></tr>\n",
       "<tr><td>H2O_cluster_allowed_cores:</td>\n",
       "<td>8</td></tr>\n",
       "<tr><td>H2O_cluster_status:</td>\n",
       "<td>locked, healthy</td></tr>\n",
       "<tr><td>H2O_connection_url:</td>\n",
       "<td>http://127.0.0.1:54321</td></tr>\n",
       "<tr><td>H2O_connection_proxy:</td>\n",
       "<td>{\"http\": null, \"https\": null}</td></tr>\n",
       "<tr><td>H2O_internal_security:</td>\n",
       "<td>False</td></tr>\n",
       "<tr><td>Python_version:</td>\n",
       "<td>3.9.12 final</td></tr></tbody>\n",
       "  </table>\n",
       "</div>\n"
      ],
      "text/plain": [
       "--------------------------  ------------------------------\n",
       "H2O_cluster_uptime:         06 secs\n",
       "H2O_cluster_timezone:       Europe/Warsaw\n",
       "H2O_data_parsing_timezone:  UTC\n",
       "H2O_cluster_version:        3.40.0.1\n",
       "H2O_cluster_version_age:    1 month\n",
       "H2O_cluster_name:           H2O_from_python_maju116_nfp3ca\n",
       "H2O_cluster_total_nodes:    1\n",
       "H2O_cluster_free_memory:    20 Gb\n",
       "H2O_cluster_total_cores:    8\n",
       "H2O_cluster_allowed_cores:  8\n",
       "H2O_cluster_status:         locked, healthy\n",
       "H2O_connection_url:         http://127.0.0.1:54321\n",
       "H2O_connection_proxy:       {\"http\": null, \"https\": null}\n",
       "H2O_internal_security:      False\n",
       "Python_version:             3.9.12 final\n",
       "--------------------------  ------------------------------"
      ]
     },
     "metadata": {},
     "output_type": "display_data"
    }
   ],
   "source": [
    "import h2o\n",
    "import pandas as pd\n",
    "h2o.init(ip = \"localhost\",\n",
    "        port = 54321,\n",
    "        nthreads = -1,\n",
    "        min_mem_size = \"20g\")"
   ]
  },
  {
   "cell_type": "code",
   "execution_count": 5,
   "id": "f54c1044",
   "metadata": {},
   "outputs": [],
   "source": [
    "creditcard_train = pd.DataFrame(np.column_stack((creditcard_train_X, creditcard_train_Y)))\n",
    "creditcard_train.columns = [\"V\" + str(i) for i in range(28)] + [\"amount\", \"fraud\"]\n",
    "creditcard_train[\"fraud\"] = [\"F\" if x == 1 else \"NF\" for x in creditcard_train[\"fraud\"]]\n",
    "creditcard_test = pd.DataFrame(np.column_stack((creditcard_test_X, creditcard_test_Y)))\n",
    "creditcard_test.columns = [\"V\" + str(i) for i in range(28)] + [\"amount\", \"fraud\"]\n",
    "creditcard_test[\"fraud\"] = [\"F\" if x == 1 else \"NF\" for x in creditcard_test[\"fraud\"]]"
   ]
  },
  {
   "cell_type": "code",
   "execution_count": 6,
   "id": "a7fcae2a",
   "metadata": {},
   "outputs": [
    {
     "name": "stdout",
     "output_type": "stream",
     "text": [
      "Parse progress: |████████████████████████████████████████████████████████████████| (done) 100%\n",
      "Parse progress: |████████████████████████████████████████████████████████████████| (done) 100%\n"
     ]
    },
    {
     "data": {
      "text/html": [
       "<div>\n",
       "<style scoped>\n",
       "    .dataframe tbody tr th:only-of-type {\n",
       "        vertical-align: middle;\n",
       "    }\n",
       "\n",
       "    .dataframe tbody tr th {\n",
       "        vertical-align: top;\n",
       "    }\n",
       "\n",
       "    .dataframe thead th {\n",
       "        text-align: right;\n",
       "    }\n",
       "</style>\n",
       "<table border=\"1\" class=\"dataframe\">\n",
       "  <thead>\n",
       "    <tr style=\"text-align: right;\">\n",
       "      <th></th>\n",
       "      <th>key</th>\n",
       "    </tr>\n",
       "  </thead>\n",
       "  <tbody>\n",
       "    <tr>\n",
       "      <th>0</th>\n",
       "      <td>creditcard_test</td>\n",
       "    </tr>\n",
       "    <tr>\n",
       "      <th>1</th>\n",
       "      <td>creditcard_train</td>\n",
       "    </tr>\n",
       "  </tbody>\n",
       "</table>\n",
       "</div>"
      ],
      "text/plain": [
       "                key\n",
       "0   creditcard_test\n",
       "1  creditcard_train"
      ]
     },
     "execution_count": 6,
     "metadata": {},
     "output_type": "execute_result"
    }
   ],
   "source": [
    "creditcard_train_h2o = h2o.H2OFrame(creditcard_train, destination_frame=\"creditcard_train\")\n",
    "creditcard_test_h2o = h2o.H2OFrame(creditcard_test, destination_frame=\"creditcard_test\")\n",
    "h2o.ls()"
   ]
  },
  {
   "cell_type": "code",
   "execution_count": 7,
   "id": "cb29215f",
   "metadata": {},
   "outputs": [],
   "source": [
    "creditcard_train_h2o[\"fraud\"] = creditcard_train_h2o[\"fraud\"].asfactor()\n",
    "creditcard_test_h2o[\"fraud\"] = creditcard_test_h2o[\"fraud\"].asfactor()"
   ]
  },
  {
   "cell_type": "markdown",
   "id": "6cb8606d",
   "metadata": {},
   "source": [
    "Następnie zbudujemy 3 modele:"
   ]
  },
  {
   "cell_type": "code",
   "execution_count": null,
   "id": "4e3943c6",
   "metadata": {},
   "outputs": [
    {
     "name": "stdout",
     "output_type": "stream",
     "text": [
      "glm Model Build progress: |"
     ]
    }
   ],
   "source": [
    "from h2o.estimators.glm import H2OGeneralizedLinearEstimator\n",
    "\n",
    "# LASSO\n",
    "card_lasso_balanced = H2OGeneralizedLinearEstimator(alpha=1,\n",
    "                                                    family=\"binomial\",\n",
    "                                                    lambda_search=True,\n",
    "                                                    nfolds=5,\n",
    "                                                    balance_classes=True,\n",
    "                                                    class_sampling_factors=[0.5, 0.5],\n",
    "                                                    seed=1234,\n",
    "                                                    score_each_iteration=True,\n",
    "                                                    model_id=\"card_lasso_balanced\")\n",
    "\n",
    "card_lasso_balanced.train(x=list(range(0, 29)),\n",
    "                          y=\"fraud\",\n",
    "                          training_frame=h2o.get_frame(\"creditcard_train\"),\n",
    "                          validation_frame=h2o.get_frame(\"creditcard_test\"))\n",
    "\n",
    "# Ridge\n",
    "card_ridge_balanced = H2OGeneralizedLinearEstimator(alpha=0,\n",
    "                                                    family=\"binomial\",\n",
    "                                                    lambda_search=True,\n",
    "                                                    nfolds=5,\n",
    "                                                    balance_classes=True,\n",
    "                                                    class_sampling_factors=[0.5, 0.5],\n",
    "                                                    seed=1234,\n",
    "                                                    score_each_iteration=True,\n",
    "                                                    model_id=\"card_ridge_balanced\")\n",
    "\n",
    "card_ridge_balanced.train(x=list(range(0, 29)),\n",
    "                          y=\"fraud\",\n",
    "                          training_frame=h2o.get_frame(\"creditcard_train\"),\n",
    "                          validation_frame=h2o.get_frame(\"creditcard_test\"))\n",
    "\n",
    "# Elastic Net\n",
    "card_elastic_net_balanced = H2OGeneralizedLinearEstimator(alpha=0.5,\n",
    "                                                          family=\"binomial\",\n",
    "                                                          lambda_search=True,\n",
    "                                                          nfolds=5,\n",
    "                                                          balance_classes=True,\n",
    "                                                          class_sampling_factors=[0.5, 0.5],\n",
    "                                                          seed=1234,\n",
    "                                                          score_each_iteration=True,\n",
    "                                                          model_id=\"card_elastic_net_balanced\")\n",
    "\n",
    "card_elastic_net_balanced.train(x=list(range(0, 29)),\n",
    "                                y=\"fraud\",\n",
    "                                training_frame=h2o.get_frame(\"creditcard_train\"),\n",
    "                                validation_frame=h2o.get_frame(\"creditcard_test\"))"
   ]
  },
  {
   "cell_type": "markdown",
   "id": "e6f71901",
   "metadata": {},
   "source": [
    "Sprawdźmy teraz jak wyglądają współczynniki naszych modeli:"
   ]
  },
  {
   "cell_type": "code",
   "execution_count": null,
   "id": "6c7a0e98",
   "metadata": {},
   "outputs": [],
   "source": [
    "card_lasso_balanced.coef()"
   ]
  },
  {
   "cell_type": "code",
   "execution_count": null,
   "id": "24f438a7",
   "metadata": {},
   "outputs": [],
   "source": [
    "card_ridge_balanced.coef()"
   ]
  },
  {
   "cell_type": "code",
   "execution_count": null,
   "id": "a3e28c87",
   "metadata": {},
   "outputs": [],
   "source": [
    "card_elastic_net_balanced.coef()"
   ]
  },
  {
   "cell_type": "markdown",
   "id": "b62937d0",
   "metadata": {},
   "source": [
    "Oraz miary dopasowania:"
   ]
  },
  {
   "cell_type": "code",
   "execution_count": null,
   "id": "88938238",
   "metadata": {},
   "outputs": [],
   "source": [
    "pred_lasso_balanced = card_lasso_balanced.predict(creditcard_test_h2o)\n",
    "perf_lasso_balanced = card_lasso_balanced.model_performance(creditcard_test_h2o)\n",
    "\n",
    "print(perf_lasso_balanced.auc())\n",
    "print(perf_lasso_balanced.gini())\n",
    "print(perf_lasso_balanced.aic())\n",
    "\n",
    "cm_lasso_balanced = card_lasso_balanced.confusion_matrix(valid = True, metrics='f2')\n",
    "\n",
    "fpr = perf_lasso_balanced.fprs\n",
    "tpr = perf_lasso_balanced.tprs\n",
    "plt.plot(fpr, tpr)\n",
    "plt.show()\n",
    "\n",
    "print(card_lasso_balanced._model_json['output']['lambda_best'])\n",
    "\n",
    "pred_ridge_balanced = card_ridge_balanced.predict(creditcard_test_h2o)\n",
    "perf_ridge_balanced = card_ridge_balanced.model_performance(creditcard_test_h2o)\n",
    "\n",
    "print(perf_ridge_balanced.auc())\n",
    "print(perf_ridge_balanced.gini())\n",
    "print(perf_ridge_balanced.aic())\n",
    "\n",
    "cm_ridge_balanced = card_ridge_balanced.confusion_matrix(valid = True, metrics='f2')\n",
    "\n",
    "fpr = perf_ridge_balanced.fprs\n",
    "tpr = perf_ridge_balanced.tprs\n",
    "plt.plot(fpr, tpr)\n",
    "plt.show()\n",
    "\n",
    "print(card_ridge_balanced._model_json['output']['lambda_best'])\n",
    "\n",
    "pred_elastic_net_balanced = card_elastic_net_balanced.predict(creditcard_test_h2o)\n",
    "perf_elastic_net_balanced = card_elastic_net_balanced.model_performance(creditcard_test_h2o)\n",
    "\n",
    "print(perf_elastic_net_balanced.auc())\n",
    "print(perf_elastic_net_balanced.gini())\n",
    "print(perf_elastic_net_balanced.aic())\n",
    "\n",
    "cm_elastic_net_balanced = card_elastic_net_balanced.confusion_matrix(valid=True, metrics='f2')\n",
    "\n",
    "fpr = perf_elastic_net_balanced.fprs\n",
    "tpr = perf_elastic_net_balanced.tprs\n",
    "plt.plot(fpr, tpr)\n",
    "plt.show()\n",
    "\n",
    "print(card_elastic_net_balanced._model_json['output']['lambda_best'])"
   ]
  },
  {
   "cell_type": "markdown",
   "id": "b43ca7e8",
   "metadata": {},
   "source": [
    "Na zakończenie zapiszmy modele:"
   ]
  },
  {
   "cell_type": "code",
   "execution_count": null,
   "id": "4758d119",
   "metadata": {
    "scrolled": true
   },
   "outputs": [],
   "source": [
    "card_lasso_balanced.save_mojo(os.getcwd())\n",
    "card_ridge_balanced.save_mojo(os.getcwd())\n",
    "card_elastic_net_balanced.save_mojo(os.getcwd())"
   ]
  },
  {
   "cell_type": "markdown",
   "id": "fbefc8a7",
   "metadata": {},
   "source": [
    "I zamkniemy cluster:"
   ]
  },
  {
   "cell_type": "code",
   "execution_count": null,
   "id": "ce521942",
   "metadata": {},
   "outputs": [],
   "source": [
    "h2o.shutdown()"
   ]
  },
  {
   "cell_type": "code",
   "execution_count": null,
   "id": "e870dcf1",
   "metadata": {},
   "outputs": [],
   "source": []
  }
 ],
 "metadata": {
  "kernelspec": {
   "display_name": "Python 3 (ipykernel)",
   "language": "python",
   "name": "python3"
  },
  "language_info": {
   "codemirror_mode": {
    "name": "ipython",
    "version": 3
   },
   "file_extension": ".py",
   "mimetype": "text/x-python",
   "name": "python",
   "nbconvert_exporter": "python",
   "pygments_lexer": "ipython3",
   "version": "3.9.12"
  }
 },
 "nbformat": 4,
 "nbformat_minor": 5
}
