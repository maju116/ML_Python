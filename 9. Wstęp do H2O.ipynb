{
 "cells": [
  {
   "cell_type": "code",
   "execution_count": null,
   "id": "985b909e",
   "metadata": {},
   "outputs": [],
   "source": [
    "import pickle\n",
    "import os\n",
    "import numpy as np\n",
    "import matplotlib.pyplot as plt\n",
    "\n",
    "filepaths = os.listdir(\"data/creditcard/\")\n",
    "for fp in filepaths:\n",
    "    with open(\"data/creditcard/\" + fp, 'rb') as f:\n",
    "        globals()[fp.replace(\".pickle\", \"\")] = pickle.load(f)"
   ]
  },
  {
   "cell_type": "markdown",
   "id": "5237f6c1",
   "metadata": {},
   "source": [
    "Zbiór ten zawiera 29 predyktorów (28 zakodowanych zmiennych bankowych przy pomocy PCA + znormalizowaną wielkość tranzakcji). Jest on ekstremalnie niezbalansowany."
   ]
  },
  {
   "cell_type": "code",
   "execution_count": null,
   "id": "4028d4c1",
   "metadata": {},
   "outputs": [],
   "source": [
    "print(creditcard_train_Y.sum() / len(creditcard_train_Y) * 100)\n",
    "print(creditcard_test_Y.sum() / len(creditcard_test_Y) * 100)"
   ]
  },
  {
   "cell_type": "markdown",
   "id": "0de897a9",
   "metadata": {},
   "source": [
    "Tak jak poprzednio zacznijmy od modelu referencyjnego - regresji logistycznej:"
   ]
  },
  {
   "cell_type": "code",
   "execution_count": null,
   "id": "41e5993c",
   "metadata": {},
   "outputs": [],
   "source": [
    "import statsmodels.api as sm\n",
    "\n",
    "logit_model = sm.Logit(creditcard_train_Y, creditcard_train_X).fit()\n",
    "logit_model.summary2()"
   ]
  },
  {
   "cell_type": "markdown",
   "id": "0d5ea98e",
   "metadata": {},
   "source": [
    "Jak widać otrzymaliśmy duzą ilość niesistotnych mziennych. Naszym kolejnym krokiem powinno być odrzucenie nieistotnych zmiennych (pojedynczo!), sprawdzenie współliniowości miedzy zmiennymi, do czasu aż dojdziemy do modelu, który jest poprawnie skonstruowany i widać w nim objawów overfittingu. \n",
    "\n",
    "Zamiast robić to wszystko ręcznie i krok po kroku, spróbujmy czegoś innego.\n",
    "\n",
    "# Regularyzacja LASSO, Ridge i Elastic Net w H2O"
   ]
  },
  {
   "cell_type": "code",
   "execution_count": null,
   "id": "1c4f6c07",
   "metadata": {},
   "outputs": [],
   "source": [
    "import h2o\n",
    "import pandas as pd\n",
    "h2o.init(ip = \"localhost\",\n",
    "        port = 54321,\n",
    "        nthreads = -1,\n",
    "        min_mem_size = \"20g\")"
   ]
  },
  {
   "cell_type": "code",
   "execution_count": null,
   "id": "f54c1044",
   "metadata": {},
   "outputs": [],
   "source": [
    "creditcard_train = pd.DataFrame(np.column_stack((creditcard_train_X, creditcard_train_Y)))\n",
    "creditcard_train.columns = [\"V\" + str(i) for i in range(28)] + [\"amount\", \"fraud\"]\n",
    "creditcard_train[\"fraud\"] = [\"F\" if x == 1 else \"NF\" for x in creditcard_train[\"fraud\"]]\n",
    "creditcard_test = pd.DataFrame(np.column_stack((creditcard_test_X, creditcard_test_Y)))\n",
    "creditcard_test.columns = [\"V\" + str(i) for i in range(28)] + [\"amount\", \"fraud\"]\n",
    "creditcard_test[\"fraud\"] = [\"F\" if x == 1 else \"NF\" for x in creditcard_test[\"fraud\"]]"
   ]
  },
  {
   "cell_type": "code",
   "execution_count": null,
   "id": "a7fcae2a",
   "metadata": {},
   "outputs": [],
   "source": [
    "creditcard_train_h2o = h2o.H2OFrame(creditcard_train, destination_frame=\"creditcard_train\")\n",
    "creditcard_test_h2o = h2o.H2OFrame(creditcard_test, destination_frame=\"creditcard_test\")\n",
    "h2o.ls()"
   ]
  },
  {
   "cell_type": "code",
   "execution_count": null,
   "id": "cb29215f",
   "metadata": {},
   "outputs": [],
   "source": [
    "creditcard_train_h2o[\"fraud\"] = creditcard_train_h2o[\"fraud\"].asfactor()\n",
    "creditcard_test_h2o[\"fraud\"] = creditcard_test_h2o[\"fraud\"].asfactor()"
   ]
  },
  {
   "cell_type": "markdown",
   "id": "6cb8606d",
   "metadata": {},
   "source": [
    "Następnie zbudujemy 3 modele:"
   ]
  },
  {
   "cell_type": "code",
   "execution_count": null,
   "id": "4e3943c6",
   "metadata": {},
   "outputs": [],
   "source": [
    "from h2o.estimators.glm import H2OGeneralizedLinearEstimator\n",
    "\n",
    "# LASSO\n",
    "card_lasso_balanced = H2OGeneralizedLinearEstimator(alpha=1,\n",
    "                                                    family=\"binomial\",\n",
    "                                                    lambda_search=True,\n",
    "                                                    nfolds=5,\n",
    "                                                    balance_classes=True,\n",
    "                                                    class_sampling_factors=[0.5, 0.5],\n",
    "                                                    seed=1234,\n",
    "                                                    score_each_iteration=True,\n",
    "                                                    model_id=\"card_lasso_balanced\")\n",
    "\n",
    "card_lasso_balanced.train(x=list(range(0, 29)),\n",
    "                          y=\"fraud\",\n",
    "                          training_frame=h2o.get_frame(\"creditcard_train\"),\n",
    "                          validation_frame=h2o.get_frame(\"creditcard_test\"))\n",
    "\n",
    "# Ridge\n",
    "card_ridge_balanced = H2OGeneralizedLinearEstimator(alpha=0,\n",
    "                                                    family=\"binomial\",\n",
    "                                                    lambda_search=True,\n",
    "                                                    nfolds=5,\n",
    "                                                    balance_classes=True,\n",
    "                                                    class_sampling_factors=[0.5, 0.5],\n",
    "                                                    seed=1234,\n",
    "                                                    score_each_iteration=True,\n",
    "                                                    model_id=\"card_ridge_balanced\")\n",
    "\n",
    "card_ridge_balanced.train(x=list(range(0, 29)),\n",
    "                          y=\"fraud\",\n",
    "                          training_frame=h2o.get_frame(\"creditcard_train\"),\n",
    "                          validation_frame=h2o.get_frame(\"creditcard_test\"))\n",
    "\n",
    "# Elastic Net\n",
    "card_elastic_net_balanced = H2OGeneralizedLinearEstimator(alpha=0.5,\n",
    "                                                          family=\"binomial\",\n",
    "                                                          lambda_search=True,\n",
    "                                                          nfolds=5,\n",
    "                                                          balance_classes=True,\n",
    "                                                          class_sampling_factors=[0.5, 0.5],\n",
    "                                                          seed=1234,\n",
    "                                                          score_each_iteration=True,\n",
    "                                                          model_id=\"card_elastic_net_balanced\")\n",
    "\n",
    "card_elastic_net_balanced.train(x=list(range(0, 29)),\n",
    "                                y=\"fraud\",\n",
    "                                training_frame=h2o.get_frame(\"creditcard_train\"),\n",
    "                                validation_frame=h2o.get_frame(\"creditcard_test\"))"
   ]
  },
  {
   "cell_type": "markdown",
   "id": "e6f71901",
   "metadata": {},
   "source": [
    "Sprawdźmy teraz jak wyglądają współczynniki naszych modeli:"
   ]
  },
  {
   "cell_type": "code",
   "execution_count": null,
   "id": "6c7a0e98",
   "metadata": {},
   "outputs": [],
   "source": [
    "card_lasso_balanced.coef()"
   ]
  },
  {
   "cell_type": "code",
   "execution_count": null,
   "id": "24f438a7",
   "metadata": {},
   "outputs": [],
   "source": [
    "card_ridge_balanced.coef()"
   ]
  },
  {
   "cell_type": "code",
   "execution_count": null,
   "id": "a3e28c87",
   "metadata": {},
   "outputs": [],
   "source": [
    "card_elastic_net_balanced.coef()"
   ]
  },
  {
   "cell_type": "markdown",
   "id": "b62937d0",
   "metadata": {},
   "source": [
    "Oraz miary dopasowania:"
   ]
  },
  {
   "cell_type": "code",
   "execution_count": null,
   "id": "88938238",
   "metadata": {},
   "outputs": [],
   "source": [
    "pred_lasso_balanced = card_lasso_balanced.predict(creditcard_test_h2o)\n",
    "perf_lasso_balanced = card_lasso_balanced.model_performance(creditcard_test_h2o)\n",
    "\n",
    "print(perf_lasso_balanced.auc())\n",
    "print(perf_lasso_balanced.gini())\n",
    "print(perf_lasso_balanced.aic())\n",
    "\n",
    "cm_lasso_balanced = card_lasso_balanced.confusion_matrix(valid = True, metrics='f2')\n",
    "\n",
    "fpr = perf_lasso_balanced.fprs\n",
    "tpr = perf_lasso_balanced.tprs\n",
    "plt.plot(fpr, tpr)\n",
    "plt.show()\n",
    "\n",
    "print(card_lasso_balanced._model_json['output']['lambda_best'])\n",
    "\n",
    "pred_ridge_balanced = card_ridge_balanced.predict(creditcard_test_h2o)\n",
    "perf_ridge_balanced = card_ridge_balanced.model_performance(creditcard_test_h2o)\n",
    "\n",
    "print(perf_ridge_balanced.auc())\n",
    "print(perf_ridge_balanced.gini())\n",
    "print(perf_ridge_balanced.aic())\n",
    "\n",
    "cm_ridge_balanced = card_ridge_balanced.confusion_matrix(valid = True, metrics='f2')\n",
    "\n",
    "fpr = perf_ridge_balanced.fprs\n",
    "tpr = perf_ridge_balanced.tprs\n",
    "plt.plot(fpr, tpr)\n",
    "plt.show()\n",
    "\n",
    "print(card_ridge_balanced._model_json['output']['lambda_best'])\n",
    "\n",
    "pred_elastic_net_balanced = card_elastic_net_balanced.predict(creditcard_test_h2o)\n",
    "perf_elastic_net_balanced = card_elastic_net_balanced.model_performance(creditcard_test_h2o)\n",
    "\n",
    "print(perf_elastic_net_balanced.auc())\n",
    "print(perf_elastic_net_balanced.gini())\n",
    "print(perf_elastic_net_balanced.aic())\n",
    "\n",
    "cm_elastic_net_balanced = card_elastic_net_balanced.confusion_matrix(valid=True, metrics='f2')\n",
    "\n",
    "fpr = perf_elastic_net_balanced.fprs\n",
    "tpr = perf_elastic_net_balanced.tprs\n",
    "plt.plot(fpr, tpr)\n",
    "plt.show()\n",
    "\n",
    "print(card_elastic_net_balanced._model_json['output']['lambda_best'])"
   ]
  },
  {
   "cell_type": "markdown",
   "id": "b43ca7e8",
   "metadata": {},
   "source": [
    "Na zakończenie zapiszmy modele:"
   ]
  },
  {
   "cell_type": "code",
   "execution_count": null,
   "id": "4758d119",
   "metadata": {
    "scrolled": true
   },
   "outputs": [],
   "source": [
    "card_lasso_balanced.save_mojo(os.getcwd())\n",
    "card_ridge_balanced.save_mojo(os.getcwd())\n",
    "card_elastic_net_balanced.save_mojo(os.getcwd())"
   ]
  },
  {
   "cell_type": "markdown",
   "id": "fbefc8a7",
   "metadata": {},
   "source": [
    "I zamkniemy cluster:"
   ]
  },
  {
   "cell_type": "code",
   "execution_count": null,
   "id": "ce521942",
   "metadata": {},
   "outputs": [],
   "source": [
    "h2o.shutdown()"
   ]
  },
  {
   "cell_type": "code",
   "execution_count": null,
   "id": "e870dcf1",
   "metadata": {},
   "outputs": [],
   "source": []
  }
 ],
 "metadata": {
  "kernelspec": {
   "display_name": "Python 3 (ipykernel)",
   "language": "python",
   "name": "python3"
  },
  "language_info": {
   "codemirror_mode": {
    "name": "ipython",
    "version": 3
   },
   "file_extension": ".py",
   "mimetype": "text/x-python",
   "name": "python",
   "nbconvert_exporter": "python",
   "pygments_lexer": "ipython3",
   "version": "3.9.12"
  }
 },
 "nbformat": 4,
 "nbformat_minor": 5
}
