{
 "cells": [
  {
   "cell_type": "markdown",
   "id": "018adab8",
   "metadata": {},
   "source": [
    "# Under/Overfitting\n",
    "\n",
    "Zadaniem modelu są 2 rzeczy:\n",
    "\n",
    "1. Optymalizacja - Regresja ma być dobrze dopasowana do danych, które mamy. To co dotąd opisywaliśmy.\n",
    "2. Generalizacja - Regresja ma takze dawać poprawne predykcje dla nowych danych.\n",
    "\n",
    "Zacznijmy od wygenerowania nowych danych:"
   ]
  },
  {
   "cell_type": "code",
   "execution_count": 1,
   "id": "7038b057",
   "metadata": {},
   "outputs": [
    {
     "data": {
      "image/png": "[encoded data removed]",
      "text/plain": [
       "<Figure size 432x288 with 1 Axes>"
      ]
     },
     "metadata": {
      "needs_background": "light"
     },
     "output_type": "display_data"
    }
   ],
   "source": [
    "import numpy as np\n",
    "import pandas as pd\n",
    "import seaborn as sns\n",
    "import matplotlib.pyplot as plt\n",
    "from IPython.display import Image\n",
    "\n",
    "np.random.seed(77)\n",
    "\n",
    "x = np.linspace(-2, 6, 20) + np.random.uniform(-3, 3, 20)\n",
    "y = 1.1 * x**2 - x + 3 + np.random.normal(0, 2, 20)\n",
    "dane = pd.DataFrame({'x': x, 'y': y})\n",
    "\n",
    "x_test = np.linspace(-2, 6, 10) + np.random.uniform(-3, 3, 10)\n",
    "y_test = 1.1 * x_test**2 - x_test + 3 + np.random.normal(0, 2, 10)\n",
    "dane_test = pd.DataFrame({'x': x_test, 'y': y_test})\n",
    "\n",
    "p = sns.scatterplot(data=dane, x='x', y='y')\n",
    "p = sns.scatterplot(data=dane_test, x='x', y='y', color='red')\n",
    "p.set(xlabel='x', ylabel='y')\n",
    "plt.show()"
   ]
  },
  {
   "cell_type": "markdown",
   "id": "2c69f919",
   "metadata": {},
   "source": [
    "Przetestujemy 3 modele liniowe:"
   ]
  },
  {
   "cell_type": "code",
   "execution_count": 2,
   "id": "ce169b44",
   "metadata": {},
   "outputs": [
    {
     "data": {
      "image/png": "[encoded data removed]",
      "text/plain": [
       "<Figure size 432x288 with 1 Axes>"
      ]
     },
     "metadata": {
      "needs_background": "light"
     },
     "output_type": "display_data"
    }
   ],
   "source": [
    "p = sns.scatterplot(data=dane, x='x', y='y')\n",
    "p = sns.scatterplot(data=dane_test, x='x', y='y', color='red')\n",
    "p.set(xlabel='x', ylabel='y')\n",
    "\n",
    "x_space = np.linspace(-4, 9, num=110)\n",
    "# Linear model\n",
    "model_lin = np.polyfit(x, y, 1)\n",
    "pred_lin = np.polyval(model_lin, x_space)\n",
    "pred_lin_train = np.polyval(model_lin, x)\n",
    "pred_lin_test = np.polyval(model_lin, x_test)\n",
    "p = sns.lineplot(x=x_space, y=pred_lin, color='red')\n",
    "\n",
    "# Quadratic model\n",
    "model_squared = np.polyfit(x, y, 2)\n",
    "pred_squared = np.polyval(model_squared, x_space)\n",
    "pred_squared_train = np.polyval(model_squared, x)\n",
    "pred_squared_test = np.polyval(model_squared, x_test)\n",
    "p = sns.lineplot(x=x_space, y=pred_squared, color='green')\n",
    "\n",
    "# 7th degree polynomial model\n",
    "model_poly7 = np.polyfit(x, y, 7)\n",
    "pred_poly7 = np.polyval(model_poly7, x_space)\n",
    "pred_poly7_train = np.polyval(model_poly7, x)\n",
    "pred_poly7_test = np.polyval(model_poly7, x_test)\n",
    "p = sns.lineplot(x=x_space, y=pred_poly7, color='blue')"
   ]
  },
  {
   "cell_type": "markdown",
   "id": "d794520a",
   "metadata": {},
   "source": [
    "I policzymy predykcje dla zbioru treningowego (dane, które mamy do treningu) i testowego (danych nowych):"
   ]
  },
  {
   "cell_type": "code",
   "execution_count": 3,
   "id": "139e4221",
   "metadata": {},
   "outputs": [
    {
     "name": "stdout",
     "output_type": "stream",
     "text": [
      "Błędy na zbiorze treningowym:\n",
      "Model liniowy: 2165.36084747255\n",
      "Model liniowy: 47.17188335365877\n",
      "Model wielomianowy stopnia 7: 42.31659420153447\n",
      "Błędy na zbiorze testowym:\n",
      "Model liniowy: 1813.1470234933433\n",
      "Model liniowy: 26.207619660366124\n",
      "Model wielomianowy stopnia 7: 581.6871453194369\n"
     ]
    }
   ],
   "source": [
    "print(\"Błędy na zbiorze treningowym:\")\n",
    "print(\"Model liniowy:\", np.sum((pred_lin_train-y)**2))\n",
    "print(\"Model liniowy:\", np.sum((pred_squared_train-y)**2))\n",
    "print(\"Model wielomianowy stopnia 7:\", np.sum((pred_poly7_train-y)**2))\n",
    "print(\"Błędy na zbiorze testowym:\")\n",
    "print(\"Model liniowy:\", np.sum((pred_lin_test-y_test)**2))\n",
    "print(\"Model liniowy:\", np.sum((pred_squared_test-y_test)**2))\n",
    "print(\"Model wielomianowy stopnia 7:\", np.sum((pred_poly7_test-y_test)**2))"
   ]
  },
  {
   "cell_type": "markdown",
   "id": "f03dc589",
   "metadata": {},
   "source": [
    "Model liniowy nie był dobrze dopasowany do danych treningowych, duży błąd na zbiorze treningowym i testowym moze swiadczyć o **underfittingu** modelu. Oznacza to, że wybrany przez nasz model jest zbyt prosty, zbyt mało elastyczny do modelowanego zjawiska. Rozwiazaniem jest uelastycznienie naszego modelu (wybór innej metody np. sieci neuronowe, drzewa itp. lub dodanie nieliniowosci). \n",
    "\n",
    "Model wielomianowy ma niski błąd na zbiorze treningowym, jest bardzo dobrze dopasowany do danych, jednakże wypada bardzo kiepsko na nowych danych (nie potrafi generalizować). jest to swiadectwo **overfittingu**. Rozwiązaniem tego problemu jest **penalizacja modelu** (np metoda LASSO lub Ridge), lub wybranie mniej elastycznego modelu.\n",
    "\n",
    "Model kwadratowy ma niski błąd na obu zbiorach. Widac, że udało się otrzymac kompromis między zadaniami optymalizacji i generalizacji.\n",
    "\n",
    "Przy tworzeniu jakiegokolwiek modelu nie powinno się go budować na całosci danych! Dane należy podzielić na conajmniej 2 zbiory - **treningowy** i **testowy**. Modele powinny być budowane na zbiorze treningowycm i porównywane na testowym."
   ]
  },
  {
   "cell_type": "markdown",
   "id": "eeb30850",
   "metadata": {},
   "source": [
    "# Cross-walidacja\n",
    "\n",
    "Bardzo potężną metodą (a zarazem bardzo prostą), która może pomóc nam w ustaleniu prawdziwej wartości błędu jest **Cross-walidacja**.\n",
    "\n",
    "Działa ona w nastepujący sposób. Nasz zbiór treningowy dzielimy na N równych częsci - tak zwanych **fold'ów**. Dla przykładu na 5:\n"
   ]
  },
  {
   "cell_type": "code",
   "execution_count": 4,
   "id": "5376d92a",
   "metadata": {},
   "outputs": [
    {
     "data": {
      "text/html": [
       "<div>\n",
       "<style scoped>\n",
       "    .dataframe tbody tr th:only-of-type {\n",
       "        vertical-align: middle;\n",
       "    }\n",
       "\n",
       "    .dataframe tbody tr th {\n",
       "        vertical-align: top;\n",
       "    }\n",
       "\n",
       "    .dataframe thead th {\n",
       "        text-align: right;\n",
       "    }\n",
       "</style>\n",
       "<table border=\"1\" class=\"dataframe\">\n",
       "  <thead>\n",
       "    <tr style=\"text-align: right;\">\n",
       "      <th></th>\n",
       "      <th>x</th>\n",
       "      <th>y</th>\n",
       "      <th>cv_fold</th>\n",
       "    </tr>\n",
       "  </thead>\n",
       "  <tbody>\n",
       "    <tr>\n",
       "      <th>0</th>\n",
       "      <td>0.514654</td>\n",
       "      <td>0.204471</td>\n",
       "      <td>4</td>\n",
       "    </tr>\n",
       "    <tr>\n",
       "      <th>1</th>\n",
       "      <td>-0.725774</td>\n",
       "      <td>3.926873</td>\n",
       "      <td>0</td>\n",
       "    </tr>\n",
       "    <tr>\n",
       "      <th>2</th>\n",
       "      <td>0.364379</td>\n",
       "      <td>2.633845</td>\n",
       "      <td>1</td>\n",
       "    </tr>\n",
       "    <tr>\n",
       "      <th>3</th>\n",
       "      <td>-2.900955</td>\n",
       "      <td>14.837056</td>\n",
       "      <td>2</td>\n",
       "    </tr>\n",
       "    <tr>\n",
       "      <th>4</th>\n",
       "      <td>-2.791872</td>\n",
       "      <td>14.148291</td>\n",
       "      <td>3</td>\n",
       "    </tr>\n",
       "    <tr>\n",
       "      <th>5</th>\n",
       "      <td>1.833276</td>\n",
       "      <td>3.469745</td>\n",
       "      <td>4</td>\n",
       "    </tr>\n",
       "    <tr>\n",
       "      <th>6</th>\n",
       "      <td>-0.516779</td>\n",
       "      <td>1.798923</td>\n",
       "      <td>0</td>\n",
       "    </tr>\n",
       "    <tr>\n",
       "      <th>7</th>\n",
       "      <td>1.193775</td>\n",
       "      <td>2.588744</td>\n",
       "      <td>1</td>\n",
       "    </tr>\n",
       "    <tr>\n",
       "      <th>8</th>\n",
       "      <td>-0.190168</td>\n",
       "      <td>-1.045638</td>\n",
       "      <td>2</td>\n",
       "    </tr>\n",
       "    <tr>\n",
       "      <th>9</th>\n",
       "      <td>2.062011</td>\n",
       "      <td>9.136930</td>\n",
       "      <td>3</td>\n",
       "    </tr>\n",
       "    <tr>\n",
       "      <th>10</th>\n",
       "      <td>1.613853</td>\n",
       "      <td>2.702735</td>\n",
       "      <td>4</td>\n",
       "    </tr>\n",
       "    <tr>\n",
       "      <th>11</th>\n",
       "      <td>3.922730</td>\n",
       "      <td>14.943396</td>\n",
       "      <td>0</td>\n",
       "    </tr>\n",
       "    <tr>\n",
       "      <th>12</th>\n",
       "      <td>5.072711</td>\n",
       "      <td>24.645896</td>\n",
       "      <td>1</td>\n",
       "    </tr>\n",
       "    <tr>\n",
       "      <th>13</th>\n",
       "      <td>4.004571</td>\n",
       "      <td>17.219482</td>\n",
       "      <td>2</td>\n",
       "    </tr>\n",
       "    <tr>\n",
       "      <th>14</th>\n",
       "      <td>2.671664</td>\n",
       "      <td>5.735894</td>\n",
       "      <td>3</td>\n",
       "    </tr>\n",
       "    <tr>\n",
       "      <th>15</th>\n",
       "      <td>3.001896</td>\n",
       "      <td>6.772544</td>\n",
       "      <td>4</td>\n",
       "    </tr>\n",
       "    <tr>\n",
       "      <th>16</th>\n",
       "      <td>5.970426</td>\n",
       "      <td>37.040054</td>\n",
       "      <td>0</td>\n",
       "    </tr>\n",
       "    <tr>\n",
       "      <th>17</th>\n",
       "      <td>4.693473</td>\n",
       "      <td>22.446798</td>\n",
       "      <td>1</td>\n",
       "    </tr>\n",
       "    <tr>\n",
       "      <th>18</th>\n",
       "      <td>2.922843</td>\n",
       "      <td>7.642632</td>\n",
       "      <td>2</td>\n",
       "    </tr>\n",
       "    <tr>\n",
       "      <th>19</th>\n",
       "      <td>7.482164</td>\n",
       "      <td>59.336862</td>\n",
       "      <td>3</td>\n",
       "    </tr>\n",
       "  </tbody>\n",
       "</table>\n",
       "</div>"
      ],
      "text/plain": [
       "           x          y  cv_fold\n",
       "0   0.514654   0.204471        4\n",
       "1  -0.725774   3.926873        0\n",
       "2   0.364379   2.633845        1\n",
       "3  -2.900955  14.837056        2\n",
       "4  -2.791872  14.148291        3\n",
       "5   1.833276   3.469745        4\n",
       "6  -0.516779   1.798923        0\n",
       "7   1.193775   2.588744        1\n",
       "8  -0.190168  -1.045638        2\n",
       "9   2.062011   9.136930        3\n",
       "10  1.613853   2.702735        4\n",
       "11  3.922730  14.943396        0\n",
       "12  5.072711  24.645896        1\n",
       "13  4.004571  17.219482        2\n",
       "14  2.671664   5.735894        3\n",
       "15  3.001896   6.772544        4\n",
       "16  5.970426  37.040054        0\n",
       "17  4.693473  22.446798        1\n",
       "18  2.922843   7.642632        2\n",
       "19  7.482164  59.336862        3"
      ]
     },
     "execution_count": 4,
     "metadata": {},
     "output_type": "execute_result"
    }
   ],
   "source": [
    "dane_cv = dane.assign(cv_fold=lambda x: (x.index - 1) % 5)\n",
    "dane_cv"
   ]
  },
  {
   "cell_type": "markdown",
   "id": "f36dfa37",
   "metadata": {},
   "source": [
    "Nastepnie zbudujemy N modeli w taki sposób, ze 1 fold nie będzie brał udziału w treningu (taki zbiór testowy), a model zbudujemy na N-1 foldach. Nastepnie policzymy błąd na foldzie, który nie brał udziału w treningu. Otrzymamy w ten sposób N błędów. Ostateczny estymat błędu będzie średnią z tych błędów:"
   ]
  },
  {
   "cell_type": "code",
   "execution_count": 6,
   "id": "1b512873",
   "metadata": {},
   "outputs": [
    {
     "data": {
      "text/html": [
       "<img src=\"https://scikit-learn.org/stable/_images/grid_search_cross_validation.png\"/>"
      ],
      "text/plain": [
       "<IPython.core.display.Image object>"
      ]
     },
     "execution_count": 6,
     "metadata": {},
     "output_type": "execute_result"
    }
   ],
   "source": [
    "Image(url='https://scikit-learn.org/stable/_images/grid_search_cross_validation.png')"
   ]
  },
  {
   "cell_type": "code",
   "execution_count": 8,
   "id": "dae056dd",
   "metadata": {},
   "outputs": [
    {
     "name": "stdout",
     "output_type": "stream",
     "text": [
      "Błąd CV dla modelu liniowego: 563.7101352875732\n",
      "Błąd CV dla modelu kwadratowego: 11.192176546711847\n",
      "Błąd CV dla modelu wielomianowego st. 7: 22493.39353554589\n"
     ]
    }
   ],
   "source": [
    "lin_error = []\n",
    "sq_error = []\n",
    "poly7_error = []\n",
    "for fold in [0, 1, 2, 3, 4]:\n",
    "    train = dane_cv[dane_cv.cv_fold != fold].drop(columns=['cv_fold'])\n",
    "    test = dane_cv[dane_cv.cv_fold == fold].drop(columns=['cv_fold'])\n",
    "    \n",
    "    model_lin = np.polyfit(train.x.values, train.y.values, 1)\n",
    "    pred_lin_test = np.polyval(model_lin, test.x)\n",
    "    lin_error.append(np.sum((pred_lin_test-test.y)**2))\n",
    "    \n",
    "    model_sq = np.polyfit(train.x.values, train.y.values, 2)\n",
    "    pred_sq_test = np.polyval(model_sq, test.x)\n",
    "    sq_error.append(np.sum((pred_sq_test-test.y)**2))\n",
    "    \n",
    "    model_poly7 = np.polyfit(train.x.values, train.y.values, 7)\n",
    "    pred_poly7_test = np.polyval(model_poly7, test.x)\n",
    "    poly7_error.append(np.sum((pred_poly7_test-test.y)**2))\n",
    "\n",
    "print(\"Błąd CV dla modelu liniowego:\", np.mean(lin_error))\n",
    "print(\"Błąd CV dla modelu kwadratowego:\", np.mean(sq_error))\n",
    "print(\"Błąd CV dla modelu wielomianowego st. 7:\", np.mean(poly7_error))"
   ]
  },
  {
   "cell_type": "markdown",
   "id": "329c3778",
   "metadata": {},
   "source": [
    "Procedura ta to tak zwana **N-fold Cross-validation**. \n",
    "\n",
    "Można by się zastanowić co stanie się jeśli nasz fold będzie tylko pojedynczą obserwacja? Mamy wtedy do czyniena z tak zwana **Leave-one-out Cross-validation**. Jej zaletą jest to że dostajemy lepszy estymat błędu, wadą jest złożoność obliczeń, musimy budować tyle modeli ile jest obserwacji. "
   ]
  },
  {
   "cell_type": "code",
   "execution_count": 9,
   "id": "81016f0d",
   "metadata": {},
   "outputs": [
    {
     "name": "stdout",
     "output_type": "stream",
     "text": [
      "Błąd CV dla modelu liniowego: 267.3425910404212\n",
      "Błąd CV dla modelu kwadratowego: 0.9563451545330967\n",
      "Błąd CV dla modelu wielomianowego st. 7: 9.010700509909913\n"
     ]
    }
   ],
   "source": [
    "dane_cv = dane.assign(cv_fold=lambda x: x.index)\n",
    "lin_error = []\n",
    "sq_error = []\n",
    "poly7_error = []\n",
    "for fold in [0, 1, 2, 3, 4]:\n",
    "    train = dane_cv[dane_cv.cv_fold != fold].drop(columns=['cv_fold'])\n",
    "    test = dane_cv[dane_cv.cv_fold == fold].drop(columns=['cv_fold'])\n",
    "    \n",
    "    model_lin = np.polyfit(train.x.values, train.y.values, 1)\n",
    "    pred_lin_test = np.polyval(model_lin, test.x)\n",
    "    lin_error.append(np.sum((pred_lin_test-test.y)**2))\n",
    "    \n",
    "    model_sq = np.polyfit(train.x.values, train.y.values, 2)\n",
    "    pred_sq_test = np.polyval(model_sq, test.x)\n",
    "    sq_error.append(np.sum((pred_sq_test-test.y)**2))\n",
    "    \n",
    "    model_poly7 = np.polyfit(train.x.values, train.y.values, 7)\n",
    "    pred_poly7_test = np.polyval(model_poly7, test.x)\n",
    "    poly7_error.append(np.sum((pred_poly7_test-test.y)**2))\n",
    "\n",
    "print(\"Błąd CV dla modelu liniowego:\", np.mean(lin_error))\n",
    "print(\"Błąd CV dla modelu kwadratowego:\", np.mean(sq_error))\n",
    "print(\"Błąd CV dla modelu wielomianowego st. 7:\", np.mean(poly7_error))"
   ]
  }
 ],
 "metadata": {
  "kernelspec": {
   "display_name": "Python 3 (ipykernel)",
   "language": "python",
   "name": "python3"
  },
  "language_info": {
   "codemirror_mode": {
    "name": "ipython",
    "version": 3
   },
   "file_extension": ".py",
   "mimetype": "text/x-python",
   "name": "python",
   "nbconvert_exporter": "python",
   "pygments_lexer": "ipython3",
   "version": "3.9.12"
  }
 },
 "nbformat": 4,
 "nbformat_minor": 5
}
