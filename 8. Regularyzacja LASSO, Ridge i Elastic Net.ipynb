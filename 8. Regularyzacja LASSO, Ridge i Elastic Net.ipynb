{
 "cells": [
  {
   "cell_type": "markdown",
   "id": "88fa4fb1",
   "metadata": {},
   "source": [
    "# Regularyzacja LASSO, Ridge, Elastic Net\n",
    "\n",
    "## Przedstawienie problemu\n",
    "\n",
    "Ponizsze dane zawierają informację na temat współczynnika genetycznego pewnej choroby oraz ekspresji genów dla $1000$ pacjentów. Naszym zadaniem będzie sprawdzenie zależności (zdudowanie modelu statystycznego) pomiędzy informacją genetyczną, a indeksem chorobowym. "
   ]
  },
  {
   "cell_type": "code",
   "execution_count": null,
   "id": "eca2f6d6",
   "metadata": {},
   "outputs": [],
   "source": [
    "import numpy as np\n",
    "import pandas as pd\n",
    "import matplotlib.pyplot as plt\n",
    "import seaborn as sns\n",
    "from sklearn.linear_model import LinearRegression\n",
    "from sklearn.model_selection import train_test_split\n",
    "\n",
    "gene_data = pd.read_csv(\"data/gene expression.csv\")\n",
    "gene_data"
   ]
  },
  {
   "cell_type": "markdown",
   "id": "32994ffc",
   "metadata": {},
   "source": [
    "Poniewaz zmienna `disease_indicator` przyjmuje wartości z przestrzeni liczb rzeczywistych moglibyśmy użyć znanego nam już modelu regresji liniowej."
   ]
  },
  {
   "cell_type": "code",
   "execution_count": null,
   "id": "dcead81d",
   "metadata": {},
   "outputs": [],
   "source": [
    "# Zadanie 1\n",
    "# Podziel zbiór na treningowy i testowy\n",
    "# Zbuduj model regresji liniowej\n",
    "# Podaj błąd kwadratowy na zbiorze treningowym i testowym\n",
    "# Podaj R^2 modelu"
   ]
  },
  {
   "cell_type": "markdown",
   "id": "4fc17c74",
   "metadata": {},
   "source": [
    "Od razu widzimy, że coś jest nie tak. Na zbiorze treningowym osiaga prawie zerowy błąd, na zbiorze testowym jednak wypada on fatalnie. Jest to typowy przypkad **overfittingu**, czyli **zbyt wysokiej wariancji modelu**. Overfitting spowodowany jest uzyciem zbyt elastycznego modelu, jednakże zazwyczaj rozumiemy to poprzez użycie zbyt elastycznej architektury jak np. sieci nauronowego do prostego problemu. Model regresji liniowej jest bardzo prostym modelem więc nie powinno byc z tym problemu.\n",
    "\n",
    "Overfitting może jednak występować także dla prostych modeli w przypadku gdy posiadamy więcej predyktorów niż obserwacji: $p \\geq N$. We wspomianym przypadku estymatory oparte na metodzie największej wiarygodności jak i na metodzie najmniejszych kwadratów narażone sa na przeuczenie modelu. \n",
    "\n",
    "Zwizualizujmy co się dzieje na prostym przykładzie zakładając, że mamy w naszym zbiorze treningowym tylko 2 obserwacje i używamy jednego predyktora (dodając wyraz wolny mamy $p=N$). W takim przypadku łatwo zauważyć, że model regresji liniowej da nam po prostu wzór na linię przechodzącą przez obie obserwacje:"
   ]
  },
  {
   "cell_type": "code",
   "execution_count": null,
   "id": "1873b7f1",
   "metadata": {},
   "outputs": [],
   "source": [
    "np.random.seed(2222)\n",
    "\n",
    "sample_data = pd.DataFrame({\n",
    "    \"x\": [1, 2, 3, 4, 5, 6, 7],\n",
    "    \"y\": [2*x + 1 + np.random.normal() for x in range(1, 8)],\n",
    "    \"set\": [\"train\", \"test\", \"train\", \"test\", \"test\", \"test\", \"test\"]\n",
    "})\n",
    "\n",
    "train_data = sample_data.loc[sample_data[\"set\"] == \"train\", [\"x\", \"y\"]]\n",
    "\n",
    "test_model = LinearRegression().fit(train_data[[\"x\"]], train_data[\"y\"])\n",
    "test_model_intercept = test_model.intercept_\n",
    "test_model_slope = test_model.coef_[0]\n",
    "\n",
    "sns.scatterplot(data=sample_data, x=\"x\", y=\"y\", hue=\"set\") \n",
    "plt.plot(sample_data[\"x\"], test_model_intercept + test_model_slope * sample_data[\"x\"], color='black')\n",
    "plt.show()"
   ]
  },
  {
   "cell_type": "markdown",
   "id": "8b2bedb1",
   "metadata": {},
   "source": [
    "## Regresja grzbietowa\n",
    "\n",
    "Aby rozwiazać ten problem musimy zastanowić się jak zmnieszyć wariancję naszego modelu. Wariancja i obciążenie (bias) są ze sobą ścisle powiązane. Zmniejszająć jedno zwiększamy drugie - bias-variance tradeoff, tak więc moglibyśmy sprawdzić co stanie się gdy do naszego modelu dodamy obciażanie. dokonamy tego dodając **regularyzacji** naszego modelu, karając model za zbyt wysokie współczynniki $\\beta$. Mówiąc dokładniej w regularyzowanej wersji naszego modelu minimalizować będziemy nie loglikelihood (lub błąd kwadratowy), a poniższe wyrażenie:\n",
    "\n",
    "$$\n",
    "\\hat{\\beta} = agrmin_{\\beta} (-\\ell(\\beta) + \\lambda\\sum_{i=1}^p \\beta_p^2)\n",
    "$$\n",
    "\n",
    "Jest to tak zwana **regresja grzbietowa** (Ridge regression). Parametr $\\lambda$ jest **hiperparametrem** modelu, który musimy ustalić. Jest to tak zwany **współczynnik kary** - im większa $\\lambda$ tym bardziej \"karamy\" nasz model za zbyt duże wartości parametrów. W przypadku regresji liniowej wartość likelihood mozemy zastąpić błędem kwadratowym, i bezpośrednio znaleźć postać rozwiązania:\n",
    "\n",
    "$$\n",
    "\\hat{\\beta} = (X^TX + \\lambda I)^{-1}X^Ty\n",
    "$$\n",
    "Zwizualizujmy rozwiązanie regresji grzbietowej dla kilku wartości $\\lambda$:"
   ]
  },
  {
   "cell_type": "code",
   "execution_count": null,
   "id": "8b4a5e99",
   "metadata": {},
   "outputs": [],
   "source": [
    "X = np.c_[np.ones(len(sample_data[sample_data[\"set\"] == \"train\"])), \n",
    "          sample_data[sample_data[\"set\"] == \"train\"][[\"x\"]].values]\n",
    "y = sample_data[sample_data[\"set\"] == \"train\"][[\"y\"]].values\n",
    "\n",
    "ridge_intercept = np.mean(y)\n",
    "\n",
    "solution_lambda_0 = np.linalg.inv(X.T @ X) @ X.T @ y\n",
    "solution_lambda_1 = np.linalg.inv(X.T @ X + 1*np.identity(X.shape[1])) @ X.T @ y\n",
    "solution_lambda_5 = np.linalg.inv(X.T @ X + 5*np.identity(X.shape[1])) @ X.T @ y\n",
    "solution_lambda_10 = np.linalg.inv(X.T @ X + 10*np.identity(X.shape[1])) @ X.T @ y\n",
    "\n",
    "sns.scatterplot(data=sample_data, x=\"x\", y=\"y\", hue=\"set\") \n",
    "plt.plot(sample_data[\"x\"], \n",
    "         test_model_intercept + test_model_slope * sample_data[\"x\"], \n",
    "         color='blue')\n",
    "plt.text(1.5, 14, \"lambda=0\", color=\"blue\")\n",
    "plt.plot(sample_data[\"x\"], \n",
    "         solution_lambda_1[0,0] + solution_lambda_1[1,0] * sample_data[\"x\"], \n",
    "         color='green')\n",
    "plt.text(1.5, 13, \"lambda=1\", color=\"green\")\n",
    "plt.plot(sample_data[\"x\"], \n",
    "         solution_lambda_5[0,0] + solution_lambda_5[1,0] * sample_data[\"x\"], \n",
    "         color='red')\n",
    "plt.text(1.5, 12, \"lambda=5\", color=\"red\")\n",
    "plt.plot(sample_data[\"x\"], \n",
    "         solution_lambda_10[0,0] + solution_lambda_10[1,0] * sample_data[\"x\"], \n",
    "         color='black')\n",
    "plt.text(1.5, 11, \"lambda=10\", color=\"black\")\n",
    "plt.show()"
   ]
  },
  {
   "cell_type": "markdown",
   "id": "76040861",
   "metadata": {},
   "source": [
    "Oczywiście pojawia się pytanie, jak wybrać wielkość $lambda$ ? Parametr ten wybierany jest w procesie **cross-walidacji** (CV). CV jest prostą lecz skuteczną metodą estymacji błędu generalizacji dlatego też doskonale nadaje się do estymacji wartości wszelkich hiperparametrów. \n",
    "\n",
    "W procesie CV dzielimy nasz zbiór treningowy na **foldy** równej wielkości. Nastepnie budujemy $K$ modeli za nowy zbiór treningowy biorąc $K-1$ foldów - w kazdym z modeli pozostający fold jest traktowany jako zbiór walidacyjny. Nastepnie uśredniamy wyniki (np. bład sredniokwadratowy) ze zbiorów walidacyjnych otrzymując estymację zbioru generalizacyjnego."
   ]
  },
  {
   "cell_type": "code",
   "execution_count": null,
   "id": "df91aae5",
   "metadata": {},
   "outputs": [],
   "source": [
    "from sklearn.linear_model import Ridge\n",
    "from sklearn.model_selection import GridSearchCV\n",
    "from sklearn.metrics import mean_squared_error, r2_score\n",
    "\n",
    "X = gene_data.drop('disease_indicator', axis=1)\n",
    "y = gene_data['disease_indicator']\n",
    "\n",
    "X_train, X_test, y_train, y_test = train_test_split(X, y, test_size=0.33, random_state=1234)\n",
    "\n",
    "param_grid = {'alpha': np.logspace(-4, 4, 9)}\n",
    "\n",
    "ridge = Ridge()\n",
    "grid_search = GridSearchCV(estimator=ridge, param_grid=param_grid, cv=10)\n",
    "\n",
    "grid_search.fit(X, y)\n",
    "best_params = grid_search.best_params_\n",
    "coefs = []\n",
    "mse = []\n",
    "for a in param_grid['alpha']:\n",
    "    ridge = Ridge(alpha=a)\n",
    "    ridge.fit(X, y)\n",
    "    coefs.append(ridge.coef_)\n",
    "    mse.append(np.mean((ridge.predict(X) - y) ** 2))\n",
    "\n",
    "print(f'Najlepsza wartość lambda: {best_params[\"alpha\"]}')\n",
    "print(f'Wynik regresji: {grid_search.best_score_}')\n",
    "\n",
    "plt.figure(figsize=(12, 8))\n",
    "plt.subplot(1, 2, 1)\n",
    "plt.plot(param_grid['alpha'], mse)\n",
    "plt.xscale('log')\n",
    "plt.xlabel('Lambda')\n",
    "plt.ylabel('MSE')\n",
    "plt.title('MSE w zależności od Lambda')\n",
    "plt.axis('tight')\n",
    "\n",
    "plt.subplot(1, 2, 2)\n",
    "plt.plot(param_grid['alpha'], coefs)\n",
    "plt.xscale('log')\n",
    "plt.xlabel('Lambda')\n",
    "plt.ylabel('Współczynniki')\n",
    "plt.title('Współczynniki Ridge w zależności od Lambda')\n",
    "plt.axis('tight')\n",
    "\n",
    "plt.show()"
   ]
  },
  {
   "cell_type": "markdown",
   "id": "f0ed6406",
   "metadata": {},
   "source": [
    "Mozy teraz policzyć predykcje:"
   ]
  },
  {
   "cell_type": "code",
   "execution_count": null,
   "id": "0030f202",
   "metadata": {},
   "outputs": [],
   "source": [
    "y_train_pred = grid_search.predict(X_train)\n",
    "y_test_pred = grid_search.predict(X_test)\n",
    "\n",
    "mse_train = mean_squared_error(y_train, y_train_pred)\n",
    "mse_test = mean_squared_error(y_test, y_test_pred)\n",
    "print(\"Błąd kwadratowy dla zbioru treningowego: \", mse_train)\n",
    "print(\"Błąd kwadratowy dla zbioru testowego: \", mse_test)"
   ]
  },
  {
   "cell_type": "markdown",
   "id": "00fc2873",
   "metadata": {},
   "source": [
    "Regresja grzbietowa jest przykładem **regularyzacji normą $L^q$** gdzie $q=2$:\n",
    "\n",
    "$$\n",
    "\\hat{\\beta} = agrmin_{\\beta} (-\\ell(\\beta) + \\lambda\\sum_{i=1}^p |\\beta_p|^q)\n",
    "$$"
   ]
  },
  {
   "cell_type": "code",
   "execution_count": null,
   "id": "5f840020",
   "metadata": {},
   "outputs": [],
   "source": [
    "def gen_norm(x, q):\n",
    "    return (1 - abs(x ** q)) ** (1/q)\n",
    "\n",
    "q_norms = pd.DataFrame()\n",
    "q_values = [0.3, 0.5, 1, 2, 3, 5, 20]\n",
    "\n",
    "for q in q_values:\n",
    "    points = pd.DataFrame({\n",
    "        'x': np.arange(0, 1.001, 0.001),\n",
    "        'y': gen_norm(np.arange(0, 1.001, 0.001), q),\n",
    "        'q': q\n",
    "    })\n",
    "    points_1 = points.copy()\n",
    "    points_2 = points.copy()\n",
    "    points_3 = points.copy()\n",
    "    points_4 = points.copy()\n",
    "    points_1['y'] = -points_1['y']\n",
    "    points_2['x'] = -points_2['x']\n",
    "    points_3['x'] = -points_3['x']\n",
    "    points_3['y'] = -points_3['y']\n",
    "    q_norms = pd.concat([q_norms, points, points_1, points_2, points_3, points_4])\n",
    "\n",
    "q_norms['q'] = q_norms['q'].astype('category')\n",
    "q_norms = q_norms.sort_values(['q', 'y', 'x'])\n",
    "\n",
    "plt.figure(figsize=(8, 6))\n",
    "plt.scatter(q_norms['x'], q_norms['y'], c=q_norms['q'], cmap='viridis', alpha=0.8, s=5)\n",
    "plt.xlabel('x')\n",
    "plt.ylabel('y')\n",
    "plt.title('Kula w przestrzenie L^q')\n",
    "plt.show()"
   ]
  },
  {
   "cell_type": "markdown",
   "id": "2c1b0b97",
   "metadata": {},
   "source": [
    "## Regresja LASSO\n",
    "\n",
    "Moznaby się zastanowić co stanie się gdy użyjemy innej normy do regularyzacji. Najczęsciej spotykanym kuzynem regresji grzbietowej jest **regresja LASSO** (least absolute shrinkage and selection operator), gdzie $q=1$:\n",
    "\n",
    "$$\n",
    "\\hat{\\beta} = agrmin_{\\beta} (-\\ell(\\beta) + \\lambda\\sum_{i=1}^p |\\beta_p|)\n",
    "$$\n"
   ]
  },
  {
   "cell_type": "code",
   "execution_count": null,
   "id": "ca75dd7b",
   "metadata": {},
   "outputs": [],
   "source": [
    "from sklearn.linear_model import Lasso\n",
    "from sklearn.model_selection import GridSearchCV\n",
    "from sklearn.metrics import mean_squared_error, r2_score\n",
    "\n",
    "X = gene_data.drop('disease_indicator', axis=1)\n",
    "y = gene_data['disease_indicator']\n",
    "\n",
    "X_train, X_test, y_train, y_test = train_test_split(X, y, test_size=0.33, random_state=1234)\n",
    "\n",
    "param_grid = {'alpha': np.logspace(-4, 4, 9)}\n",
    "\n",
    "lasso = Lasso()\n",
    "grid_search = GridSearchCV(estimator=lasso, param_grid=param_grid, cv=10)\n",
    "\n",
    "grid_search.fit(X, y)\n",
    "best_params = grid_search.best_params_\n",
    "coefs = []\n",
    "mse = []\n",
    "for a in param_grid['alpha']:\n",
    "    lasso = Lasso(alpha=a)\n",
    "    lasso.fit(X, y)\n",
    "    coefs.append(lasso.coef_)\n",
    "    mse.append(np.mean((lasso.predict(X) - y) ** 2))\n",
    "\n",
    "print(f'Najlepsza wartość lambda: {best_params[\"alpha\"]}')\n",
    "print(f'Wynik regresji: {grid_search.best_score_}')\n",
    "\n",
    "plt.figure(figsize=(12, 8))\n",
    "plt.subplot(1, 2, 1)\n",
    "plt.plot(param_grid['alpha'], mse)\n",
    "plt.xscale('log')\n",
    "plt.xlabel('Lambda')\n",
    "plt.ylabel('MSE')\n",
    "plt.title('MSE w zależności od Lambda')\n",
    "plt.axis('tight')\n",
    "\n",
    "plt.subplot(1, 2, 2)\n",
    "plt.plot(param_grid['alpha'], coefs)\n",
    "plt.xscale('log')\n",
    "plt.xlabel('Lambda')\n",
    "plt.ylabel('Współczynniki')\n",
    "plt.title('Współczynniki Ridge w zależności od Lambda')\n",
    "plt.axis('tight')\n",
    "\n",
    "plt.show()"
   ]
  },
  {
   "cell_type": "code",
   "execution_count": null,
   "id": "9688160a",
   "metadata": {},
   "outputs": [],
   "source": [
    "y_train_pred = grid_search.predict(X_train)\n",
    "y_test_pred = grid_search.predict(X_test)\n",
    "\n",
    "mse_train = mean_squared_error(y_train, y_train_pred)\n",
    "mse_test = mean_squared_error(y_test, y_test_pred)\n",
    "print(\"Błąd kwadratowy dla zbioru treningowego: \", mse_train)\n",
    "print(\"Błąd kwadratowy dla zbioru testowego: \", mse_test)"
   ]
  },
  {
   "cell_type": "markdown",
   "id": "973227df",
   "metadata": {},
   "source": [
    "Widać tu pewną różnicę jesli chodzi o wartości współczynników $\\beta$. W regresji grzbietowej niektóre wartości są bliskie 0, ale nigdy nie osiągają tej wartości - metoda regresji grzbietowej pozwala tylko na dojście asymptotycznie blisko do 0. W przypadku LASSO dostajemy zerowe współczynniki - daje nam to bardzo przydatną własność, bo LASSO działa jak **selektor zmiennych**.\n",
    "\n",
    "## Regresja Elastic Net\n",
    "\n",
    "LASSO daje z reguły lepsze wyniki gdy w naszym zbiorze mamy nieistotne predyktory (zmienne które nie wnoszą informacji do modelu), LASSO potrafi się ich pozbyć. Regresja grzbietowa działa lepiej gdy predyktory są istotne. Jeśli chcemy korzystać z zalet obu podejść możemy użyć regresji **Elastic Net**:\n",
    "\n",
    "$$\n",
    "\\hat{\\beta} = agrmin_{\\beta} (-\\ell(\\beta) + \\lambda(\\alpha\\sum_{i=1}^p |\\beta_p| + (1-\\alpha)\\sum_{i=1}^p \\beta_p^2))\n",
    "$$"
   ]
  },
  {
   "cell_type": "code",
   "execution_count": null,
   "id": "904a85bf",
   "metadata": {},
   "outputs": [],
   "source": [
    "from sklearn.linear_model import ElasticNet\n",
    "from sklearn.model_selection import GridSearchCV\n",
    "from sklearn.metrics import mean_squared_error, r2_score\n",
    "\n",
    "X = gene_data.drop('disease_indicator', axis=1)\n",
    "y = gene_data['disease_indicator']\n",
    "\n",
    "X_train, X_test, y_train, y_test = train_test_split(X, y, test_size=0.33, random_state=1234)\n",
    "\n",
    "param_grid = {'alpha': np.logspace(-4, 4, 9)}\n",
    "\n",
    "elastic_net = ElasticNet(l1_ratio=0.5)\n",
    "grid_search = GridSearchCV(estimator=elastic_net, param_grid=param_grid, cv=10)\n",
    "\n",
    "grid_search.fit(X, y)\n",
    "best_params = grid_search.best_params_\n",
    "coefs = []\n",
    "mse = []\n",
    "for a in param_grid['alpha']:\n",
    "    elastic_net = ElasticNet(alpha=a, l1_ratio=0.5)\n",
    "    elastic_net.fit(X, y)\n",
    "    coefs.append(elastic_net.coef_)\n",
    "    mse.append(np.mean((elastic_net.predict(X) - y) ** 2))\n",
    "\n",
    "print(f'Najlepsza wartość lambda: {best_params[\"alpha\"]}')\n",
    "print(f'Wynik regresji: {grid_search.best_score_}')\n",
    "\n",
    "plt.figure(figsize=(12, 8))\n",
    "plt.subplot(1, 2, 1)\n",
    "plt.plot(param_grid['alpha'], mse)\n",
    "plt.xscale('log')\n",
    "plt.xlabel('Lambda')\n",
    "plt.ylabel('MSE')\n",
    "plt.title('MSE w zależności od Lambda')\n",
    "plt.axis('tight')\n",
    "\n",
    "plt.subplot(1, 2, 2)\n",
    "plt.plot(param_grid['alpha'], coefs)\n",
    "plt.xscale('log')\n",
    "plt.xlabel('Lambda')\n",
    "plt.ylabel('Współczynniki')\n",
    "plt.title('Współczynniki Ridge w zależności od Lambda')\n",
    "plt.axis('tight')\n",
    "\n",
    "plt.show()"
   ]
  },
  {
   "cell_type": "code",
   "execution_count": null,
   "id": "b74b2767",
   "metadata": {},
   "outputs": [],
   "source": [
    "y_train_pred = grid_search.predict(X_train)\n",
    "y_test_pred = grid_search.predict(X_test)\n",
    "\n",
    "mse_train = mean_squared_error(y_train, y_train_pred)\n",
    "mse_test = mean_squared_error(y_test, y_test_pred)\n",
    "print(\"Błąd kwadratowy dla zbioru treningowego: \", mse_train)\n",
    "print(\"Błąd kwadratowy dla zbioru testowego: \", mse_test)"
   ]
  },
  {
   "cell_type": "markdown",
   "id": "553fb481",
   "metadata": {},
   "source": [
    "Wartość $\\alpha$ jest kolejnym hiperparametrem który należałoby wybrać z użyciem CV i metody seleckji jak np grid search."
   ]
  },
  {
   "cell_type": "markdown",
   "id": "bf1de4fc",
   "metadata": {},
   "source": [
    "# Zadanie\n",
    "Zbuduj model regresji logistycznej z regularyzacją dla poniższego zbioru danych.\n",
    "Sprawdź braki danych, rozkłady zmiennych, użyj modułu scikit-learn."
   ]
  },
  {
   "cell_type": "code",
   "execution_count": null,
   "id": "54792266",
   "metadata": {},
   "outputs": [],
   "source": [
    "import pickle\n",
    "import os\n",
    "import numpy as np\n",
    "\n",
    "filepaths = os.listdir(\"data/creditcard/\")\n",
    "for fp in filepaths:\n",
    "    with open(\"data/creditcard/\" + fp, 'rb') as f:\n",
    "        globals()[fp.replace(\".pickle\", \"\")] = pickle.load(f)"
   ]
  },
  {
   "cell_type": "code",
   "execution_count": null,
   "id": "127d2a47",
   "metadata": {},
   "outputs": [],
   "source": []
  }
 ],
 "metadata": {
  "kernelspec": {
   "display_name": "Python 3 (ipykernel)",
   "language": "python",
   "name": "python3"
  },
  "language_info": {
   "codemirror_mode": {
    "name": "ipython",
    "version": 3
   },
   "file_extension": ".py",
   "mimetype": "text/x-python",
   "name": "python",
   "nbconvert_exporter": "python",
   "pygments_lexer": "ipython3",
   "version": "3.9.12"
  }
 },
 "nbformat": 4,
 "nbformat_minor": 5
}
