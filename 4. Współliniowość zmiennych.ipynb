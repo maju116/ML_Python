{
 "cells": [
  {
   "cell_type": "markdown",
   "id": "d4a7f120",
   "metadata": {},
   "source": [
    "Skoro wiemy już czym jest i jak działa model regresji liniowej warto się zastanowić na co powinnśmy zwrócić uwagę podczas modelowania (zasady te będą równie ważne podaczas używania innych modeli niż liniowy).\n",
    "\n",
    "# Współliniowość zmiennych\n",
    "\n",
    "Budując model powinniśmy zwrócić uwagę na to czy nasze predyktory nie są współliniowe (jeden z predyktorów jest kombinacją liniową innych). Wprowadzanie współliniowych predyktorów powoduje przekazywanie identycznej informacji z wielu miejsc:"
   ]
  },
  {
   "cell_type": "code",
   "execution_count": 1,
   "id": "5f078329",
   "metadata": {},
   "outputs": [
    {
     "data": {
      "text/html": [
       "<div>\n",
       "<style scoped>\n",
       "    .dataframe tbody tr th:only-of-type {\n",
       "        vertical-align: middle;\n",
       "    }\n",
       "\n",
       "    .dataframe tbody tr th {\n",
       "        vertical-align: top;\n",
       "    }\n",
       "\n",
       "    .dataframe thead th {\n",
       "        text-align: right;\n",
       "    }\n",
       "</style>\n",
       "<table border=\"1\" class=\"dataframe\">\n",
       "  <thead>\n",
       "    <tr style=\"text-align: right;\">\n",
       "      <th></th>\n",
       "      <th>x1</th>\n",
       "      <th>x2</th>\n",
       "      <th>z</th>\n",
       "      <th>y</th>\n",
       "    </tr>\n",
       "  </thead>\n",
       "  <tbody>\n",
       "    <tr>\n",
       "      <th>0</th>\n",
       "      <td>-0.032436</td>\n",
       "      <td>3.302115</td>\n",
       "      <td>12.839714</td>\n",
       "      <td>-2.658624</td>\n",
       "    </tr>\n",
       "    <tr>\n",
       "      <th>1</th>\n",
       "      <td>0.037800</td>\n",
       "      <td>2.945636</td>\n",
       "      <td>10.393777</td>\n",
       "      <td>-2.087332</td>\n",
       "    </tr>\n",
       "    <tr>\n",
       "      <th>2</th>\n",
       "      <td>0.192258</td>\n",
       "      <td>2.132955</td>\n",
       "      <td>7.549086</td>\n",
       "      <td>-1.072105</td>\n",
       "    </tr>\n",
       "    <tr>\n",
       "      <th>3</th>\n",
       "      <td>0.554356</td>\n",
       "      <td>3.454952</td>\n",
       "      <td>10.683218</td>\n",
       "      <td>-1.375270</td>\n",
       "    </tr>\n",
       "    <tr>\n",
       "      <th>4</th>\n",
       "      <td>0.610369</td>\n",
       "      <td>3.591809</td>\n",
       "      <td>11.080006</td>\n",
       "      <td>-2.095570</td>\n",
       "    </tr>\n",
       "    <tr>\n",
       "      <th>...</th>\n",
       "      <td>...</td>\n",
       "      <td>...</td>\n",
       "      <td>...</td>\n",
       "      <td>...</td>\n",
       "    </tr>\n",
       "    <tr>\n",
       "      <th>95</th>\n",
       "      <td>9.417322</td>\n",
       "      <td>8.297676</td>\n",
       "      <td>7.269898</td>\n",
       "      <td>13.760754</td>\n",
       "    </tr>\n",
       "    <tr>\n",
       "      <th>96</th>\n",
       "      <td>9.977041</td>\n",
       "      <td>6.831405</td>\n",
       "      <td>-0.545786</td>\n",
       "      <td>14.007908</td>\n",
       "    </tr>\n",
       "    <tr>\n",
       "      <th>97</th>\n",
       "      <td>9.534817</td>\n",
       "      <td>9.717499</td>\n",
       "      <td>11.455468</td>\n",
       "      <td>13.424037</td>\n",
       "    </tr>\n",
       "    <tr>\n",
       "      <th>98</th>\n",
       "      <td>9.849744</td>\n",
       "      <td>8.195875</td>\n",
       "      <td>5.435839</td>\n",
       "      <td>15.623582</td>\n",
       "    </tr>\n",
       "    <tr>\n",
       "      <th>99</th>\n",
       "      <td>9.803813</td>\n",
       "      <td>10.126896</td>\n",
       "      <td>12.193496</td>\n",
       "      <td>13.645309</td>\n",
       "    </tr>\n",
       "  </tbody>\n",
       "</table>\n",
       "<p>100 rows × 4 columns</p>\n",
       "</div>"
      ],
      "text/plain": [
       "          x1         x2          z          y\n",
       "0  -0.032436   3.302115  12.839714  -2.658624\n",
       "1   0.037800   2.945636  10.393777  -2.087332\n",
       "2   0.192258   2.132955   7.549086  -1.072105\n",
       "3   0.554356   3.454952  10.683218  -1.375270\n",
       "4   0.610369   3.591809  11.080006  -2.095570\n",
       "..       ...        ...        ...        ...\n",
       "95  9.417322   8.297676   7.269898  13.760754\n",
       "96  9.977041   6.831405  -0.545786  14.007908\n",
       "97  9.534817   9.717499  11.455468  13.424037\n",
       "98  9.849744   8.195875   5.435839  15.623582\n",
       "99  9.803813  10.126896  12.193496  13.645309\n",
       "\n",
       "[100 rows x 4 columns]"
      ]
     },
     "execution_count": 1,
     "metadata": {},
     "output_type": "execute_result"
    }
   ],
   "source": [
    "import pandas as pd\n",
    "import statsmodels.api as sm\n",
    "import numpy as np\n",
    "data = pd.read_csv(\"data/colinearity.csv\")\n",
    "data"
   ]
  },
  {
   "cell_type": "code",
   "execution_count": 2,
   "id": "14833a7a",
   "metadata": {},
   "outputs": [],
   "source": [
    "X1 = sm.add_constant(data[['x1', 'x2']].values)\n",
    "X2 = sm.add_constant(data[['x1', 'x2', 'z']].values)\n",
    "y = data['y'].values\n",
    "reg1 = sm.OLS(y, X1).fit()\n",
    "reg2 = sm.OLS(y, X2).fit()"
   ]
  },
  {
   "cell_type": "code",
   "execution_count": 3,
   "id": "34eebd60",
   "metadata": {},
   "outputs": [
    {
     "name": "stdout",
     "output_type": "stream",
     "text": [
      "Coefficients:\n",
      " [-0.12972163  2.14580211 -0.80335749]\n",
      "\n",
      "P-Values:\n",
      " [5.37085479e-01 3.47026603e-69 3.97607766e-28]\n",
      "\n",
      "Significant:\n",
      " [False  True  True]\n"
     ]
    }
   ],
   "source": [
    "print(\"Coefficients:\\n\", reg1.params)\n",
    "print(\"\\nP-Values:\\n\", reg1.pvalues)\n",
    "print(\"\\nSignificant:\\n\", reg1.pvalues < 0.01)"
   ]
  },
  {
   "cell_type": "code",
   "execution_count": 4,
   "id": "88cdc8d8",
   "metadata": {},
   "outputs": [
    {
     "name": "stdout",
     "output_type": "stream",
     "text": [
      "Coefficients:\n",
      " [-0.58649516  3.23996238 -2.35307049  0.46668154]\n",
      "\n",
      "P-Values:\n",
      " [3.49597403e-02 6.64077853e-11 2.78028676e-04 1.43524745e-02]\n",
      "\n",
      "Significant:\n",
      " [False  True  True False]\n"
     ]
    }
   ],
   "source": [
    "print(\"Coefficients:\\n\", reg2.params)\n",
    "print(\"\\nP-Values:\\n\", reg2.pvalues)\n",
    "print(\"\\nSignificant:\\n\", reg2.pvalues < 0.01)"
   ]
  },
  {
   "cell_type": "markdown",
   "id": "7f0cf138",
   "metadata": {},
   "source": [
    "Objawy współliniowosci:\n",
    "\n",
    " - Duże zmiany współczynników regresji pod dodaniu/odjęciu zmiennej.\n",
    " - Wysoka wartość predykcyjna modelu (np wysokie $R^2$) lecz niesistotne zmienne.\n",
    "\n",
    "Najprostszym sposobem badania współliniowości predyktorów jest policzenie korelacji:"
   ]
  },
  {
   "cell_type": "code",
   "execution_count": 5,
   "id": "c0cbac77",
   "metadata": {},
   "outputs": [
    {
     "name": "stdout",
     "output_type": "stream",
     "text": [
      "Correlation coefficient between x1 and x2: 0.5951334425069779\n",
      "Correlation coefficient between x1 and z: -0.2582590518358908\n",
      "Correlation coefficient between x2 and z: 0.6201384259726195\n"
     ]
    }
   ],
   "source": [
    "corrx1x2 = np.corrcoef(data.x1, data.x2)[0, 1]\n",
    "print(\"Correlation coefficient between x1 and x2:\", corrx1x2)\n",
    "corrx1z = np.corrcoef(data.x1, data.z)[0, 1]\n",
    "print(\"Correlation coefficient between x1 and z:\", corrx1z)\n",
    "corrx2z = np.corrcoef(data.x2, data.z)[0, 1]\n",
    "print(\"Correlation coefficient between x2 and z:\", corrx2z)"
   ]
  },
  {
   "cell_type": "markdown",
   "id": "0deef7ab",
   "metadata": {},
   "source": [
    "Jeśli widzimy 2 mocno skorelowane ze sobą predyktory to powinnismy pozbyć się jednego z nich. Niestety ten sposób nie działa gdy jeden predyktor jest kombinacją pozostałych."
   ]
  },
  {
   "cell_type": "code",
   "execution_count": 6,
   "id": "07132631",
   "metadata": {},
   "outputs": [
    {
     "name": "stdout",
     "output_type": "stream",
     "text": [
      "Correlation coefficient between -2.37*x1 + 3.33*x2 + 1 and z: 0.9969336749167262\n"
     ]
    }
   ],
   "source": [
    "corr_lin_comb = np.corrcoef(-2.37*data.x1 + 3.33*data.x2 + 1, data.z)[0, 1]\n",
    "print(\"Correlation coefficient between -2.37*x1 + 3.33*x2 + 1 and z:\", corr_lin_comb)"
   ]
  },
  {
   "cell_type": "markdown",
   "id": "d7555fd9",
   "metadata": {},
   "source": [
    "Innym sposobem jest policzenie współczynnika VIF (Variance inflation factor). W skrócie dla danego predyktora tworzymy model liniowy zakładając zależność od pzostałych predyktórw. Nastepnie liczymy VIF jako:\n",
    "\n",
    "$$\n",
    "1 / (1 - R^2)\n",
    "$$\n",
    "\n",
    "Jeśli VIF jest wysoki (w literaturze 5+) mamy problem ze współliniowością zmiennych."
   ]
  },
  {
   "cell_type": "code",
   "execution_count": 7,
   "id": "41283772",
   "metadata": {},
   "outputs": [
    {
     "name": "stdout",
     "output_type": "stream",
     "text": [
      "Coefficients:\n",
      " [ 0.97876922 -2.34455441  3.32070772]\n",
      "\n",
      "P-Values:\n",
      " [4.21102823e-014 4.05131249e-099 6.85332409e-108]\n",
      "\n",
      "Significant:\n",
      " [ True  True  True]\n",
      "\n",
      "VIF for z variable:\n",
      " 164.83453929475615\n"
     ]
    }
   ],
   "source": [
    "X1 = sm.add_constant(data[['x1', 'x2']].values)\n",
    "z = data['z'].values\n",
    "reg3 = sm.OLS(z, X1).fit()\n",
    "print(\"Coefficients:\\n\", reg3.params)\n",
    "print(\"\\nP-Values:\\n\", reg3.pvalues)\n",
    "print(\"\\nSignificant:\\n\", reg3.pvalues < 0.01)\n",
    "VIF_z = 1 / (1 - reg3.rsquared)\n",
    "print(\"\\nVIF for z variable:\\n\", VIF_z)"
   ]
  },
  {
   "cell_type": "markdown",
   "id": "ce973f33",
   "metadata": {},
   "source": [
    "Ostatnim sposobem jest Test Farrar'a–Glauber'a, którego hipotezą zerową jest brak współliniowości w modelu:"
   ]
  },
  {
   "cell_type": "code",
   "execution_count": 8,
   "id": "a6998be6",
   "metadata": {},
   "outputs": [
    {
     "name": "stdout",
     "output_type": "stream",
     "text": [
      "Breusch-Pagan test statistic: 5.8459\n",
      "p-value: 0.1194\n"
     ]
    }
   ],
   "source": [
    "from statsmodels.stats.diagnostic import het_breuschpagan\n",
    "fg_test = het_breuschpagan(reg2.resid, X2)\n",
    "print(f\"Breusch-Pagan test statistic: {fg_test[0]:.4f}\")\n",
    "print(f\"p-value: {fg_test[1]:.4f}\")"
   ]
  },
  {
   "cell_type": "code",
   "execution_count": null,
   "id": "d71852bf",
   "metadata": {},
   "outputs": [],
   "source": []
  }
 ],
 "metadata": {
  "kernelspec": {
   "display_name": "Python 3 (ipykernel)",
   "language": "python",
   "name": "python3"
  },
  "language_info": {
   "codemirror_mode": {
    "name": "ipython",
    "version": 3
   },
   "file_extension": ".py",
   "mimetype": "text/x-python",
   "name": "python",
   "nbconvert_exporter": "python",
   "pygments_lexer": "ipython3",
   "version": "3.9.12"
  }
 },
 "nbformat": 4,
 "nbformat_minor": 5
}
